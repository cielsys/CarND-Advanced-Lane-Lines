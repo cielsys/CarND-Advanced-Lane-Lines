{
 "cells": [
  {
   "cell_type": "markdown",
   "metadata": {},
   "source": [
    "# Self-Driving Car Engineer Nanodegree\n",
    "\n",
    "## Project: **Finding Lane Lines on the Road** "
   ]
  },
  {
   "cell_type": "code",
   "execution_count": 1,
   "metadata": {},
   "outputs": [],
   "source": [
    "#importing some useful packages\n",
    "import matplotlib.pyplot as plt\n",
    "import matplotlib.image as mpimg\n",
    "import numpy as np\n",
    "import cv2\n",
    "import math\n",
    "from moviepy.editor import VideoFileClip\n",
    "\n",
    "%matplotlib inline\n",
    "\n",
    "import datetime\n",
    "import pprint\n",
    "pp = pprint.PrettyPrinter(indent=4)\n"
   ]
  },
  {
   "cell_type": "code",
   "execution_count": 2,
   "metadata": {},
   "outputs": [
    {
     "data": {
      "text/html": [
       "<style> code {background-color : orange !important;} </style>\n",
       "from IPython.core.display import display, HTML\n",
       "display(HTML(\"<style>.container { width:100% !important; }</style>\"))"
      ],
      "text/plain": [
       "<IPython.core.display.HTML object>"
      ]
     },
     "metadata": {},
     "output_type": "display_data"
    }
   ],
   "source": [
    "%%HTML\n",
    "<style> code {background-color : orange !important;} </style>\n",
    "from IPython.core.display import display, HTML\n",
    "display(HTML(\"<style>.container { width:100% !important; }</style>\"))"
   ]
  },
  {
   "cell_type": "markdown",
   "metadata": {},
   "source": [
    "## Helper Functions"
   ]
  },
  {
   "cell_type": "markdown",
   "metadata": {},
   "source": [
    "I am not currently using these helpers but I have left them here for future development"
   ]
  },
  {
   "cell_type": "code",
   "execution_count": 3,
   "metadata": {},
   "outputs": [],
   "source": [
    "import math\n",
    "\n",
    "def grayscale(img):\n",
    "    \"\"\"Applies the Grayscale transform\n",
    "    This will return an image with only one color channel\n",
    "    but NOTE: to see the returned image as grayscale\n",
    "    (assuming your grayscaled image is called 'gray')\n",
    "    you should call plt.imshow(gray, cmap='gray')\"\"\"\n",
    "    return cv2.cvtColor(img, cv2.COLOR_RGB2GRAY)\n",
    "    # Or use BGR2GRAY if you read an image with cv2.imread()\n",
    "    # return cv2.cvtColor(img, cv2.COLOR_BGR2GRAY)\n",
    "    \n",
    "def canny(img, low_threshold, high_threshold):\n",
    "    \"\"\"Applies the Canny transform\"\"\"\n",
    "    return cv2.Canny(img, low_threshold, high_threshold)\n",
    "\n",
    "def gaussian_blur(img, kernel_size):\n",
    "    \"\"\"Applies a Gaussian Noise kernel\"\"\"\n",
    "    return cv2.GaussianBlur(img, (kernel_size, kernel_size), 0)\n",
    "\n",
    "def region_of_interest(img, vertices):\n",
    "    \"\"\"\n",
    "    Applies an image mask.\n",
    "    \n",
    "    Only keeps the region of the image defined by the polygon\n",
    "    formed from `vertices`. The rest of the image is set to black.\n",
    "    `vertices` should be a numpy array of integer points.\n",
    "    \"\"\"\n",
    "    #defining a blank mask to start with\n",
    "    mask = np.zeros_like(img)   \n",
    "    \n",
    "    #defining a 3 channel or 1 channel color to fill the mask with depending on the input image\n",
    "    if len(img.shape) > 2:\n",
    "        channel_count = img.shape[2]  # i.e. 3 or 4 depending on your image\n",
    "        ignore_mask_color = (255,) * channel_count\n",
    "    else:\n",
    "        ignore_mask_color = 255\n",
    "        \n",
    "    #filling pixels inside the polygon defined by \"vertices\" with the fill color    \n",
    "    cv2.fillPoly(mask, vertices, ignore_mask_color)\n",
    "    \n",
    "    #returning the image only where mask pixels are nonzero\n",
    "    masked_image = cv2.bitwise_and(img, mask)\n",
    "    return masked_image\n",
    "\n",
    "\n",
    "def draw_lines(img, lines, color=[255, 0, 0], thickness=2):\n",
    "    \"\"\"\n",
    "    NOTE: this is the function you might want to use as a starting point once you want to \n",
    "    average/extrapolate the line segments you detect to map out the full\n",
    "    extent of the lane (going from the result shown in raw-lines-example.mp4\n",
    "    to that shown in P1_example.mp4).  \n",
    "    \n",
    "    Think about things like separating line segments by their \n",
    "    slope ((y2-y1)/(x2-x1)) to decide which segments are part of the left\n",
    "    line vs. the right line.  Then, you can average the position of each of \n",
    "    the lines and extrapolate to the top and bottom of the lane.\n",
    "    \n",
    "    This function draws `lines` with `color` and `thickness`.    \n",
    "    Lines are drawn on the image inplace (mutates the image).\n",
    "    If you want to make the lines semi-transparent, think about combining\n",
    "    this function with the weighted_img() function below\n",
    "    \"\"\"\n",
    "    for line in lines:\n",
    "        for x1,y1,x2,y2 in line:\n",
    "            cv2.line(img, (x1, y1), (x2, y2), color, thickness)\n",
    "\n",
    "def hough_lines(img, rho, theta, threshold, min_line_len, max_line_gap):\n",
    "    \"\"\"\n",
    "    `img` should be the output of a Canny transform.\n",
    "        \n",
    "    Returns an image with hough lines drawn.\n",
    "    \"\"\"\n",
    "    lines = cv2.HoughLinesP(img, rho, theta, threshold, np.array([]), minLineLength=min_line_len, maxLineGap=max_line_gap)\n",
    "    line_img = np.zeros((img.shape[0], img.shape[1], 3), dtype=np.uint8)\n",
    "    draw_lines(line_img, lines)\n",
    "    return line_img\n",
    "\n",
    "# Python 3 has support for cool math symbols.\n",
    "\n",
    "def weighted_img(img, initial_img, α=0.8, β=1., γ=0.):\n",
    "    \"\"\"\n",
    "    `img` is the output of the hough_lines(), An image with lines drawn on it.\n",
    "    Should be a blank image (all black) with lines drawn on it.\n",
    "    \n",
    "    `initial_img` should be the image before any processing.\n",
    "    \n",
    "    The result image is computed as follows:\n",
    "    \n",
    "    initial_img * α + img * β + γ\n",
    "    NOTE: initial_img and img must be the same shape!\n",
    "    \"\"\"\n",
    "    return cv2.addWeighted(initial_img, α, img, β, γ)"
   ]
  },
  {
   "cell_type": "code",
   "execution_count": 4,
   "metadata": {},
   "outputs": [],
   "source": [
    "def CalcSlope(lineSegIn):\n",
    "    x1,y1,x2,y2 = lineSegIn\n",
    "    slopeOut = (y2-y1)/(x2-x1)\n",
    "    return(slopeOut)\n",
    "\n",
    "def ExtendLineSegment(lineSegIn, extFactor = 0.25):\n",
    "    x1,y1,x2,y2 = lineSegIn\n",
    "    dx = x2 - x1\n",
    "    dy = y2 - y1\n",
    "    \n",
    "    # This here is deeply cheesy!\n",
    "    # Only extend the segment toward the bottom of the image\n",
    "    if (dy > 0):\n",
    "        x3 = int(round(x2 + extFactor * dx))\n",
    "        y3 = int(round(y2 + extFactor * dy))\n",
    "        x0 = x1\n",
    "        y0 = y1\n",
    "    else:\n",
    "        x3 = x2\n",
    "        y3 = y2\n",
    "        x0 = int(round(x1 - extFactor * dx))\n",
    "        y0 = int(round(y1 - extFactor * dy))\n",
    "        \n",
    "    lineSegOut = (x0,y0,x3,y3)\n",
    "    return(lineSegOut)\n",
    "                       "
   ]
  },
  {
   "cell_type": "code",
   "execution_count": 5,
   "metadata": {},
   "outputs": [],
   "source": [
    "def PlotImageRecords(imgRecords):\n",
    "    fig = plt.gcf()\n",
    "    fig.set_size_inches(12,4)\n",
    "    fig.set_dpi(180)\n",
    "\n",
    "    numImages = len(imgRecords)\n",
    "    numCols = 4\n",
    "    numRows = math.ceil(numImages/numCols) \n",
    "    for recIndex, imgRecord in enumerate(imgRecords):\n",
    "        name, img = imgRecord\n",
    "\n",
    "        plt.subplot(numRows, numCols, recIndex+1)\n",
    "        plt.title(name)\n",
    "        plt.axis('off')\n",
    "        plt.imshow(img)\n",
    "        \n",
    "    #plt.tight_layout()\n",
    "    #plt.show()        \n",
    "\n",
    "#PlotImageRecords(pipelineImgRecords)\n",
    "    "
   ]
  },
  {
   "cell_type": "markdown",
   "metadata": {},
   "source": [
    "## Test Images\n"
   ]
  },
  {
   "cell_type": "code",
   "execution_count": 6,
   "metadata": {},
   "outputs": [],
   "source": [
    "import os\n",
    "from glob import glob\n",
    "g_outputDir = \"test_videos_output\"\n",
    "\n",
    "glob_pattern = os.path.join(\"test_images/\", \"*.jpg\")\n",
    "tmpFileNames = glob(glob_pattern)\n",
    "g_testImgFileNames = tmpFileNames\n",
    "g_testImgFileNamesFQ = [os.path.abspath(fileName) for fileName in tmpFileNames]\n"
   ]
  },
  {
   "cell_type": "markdown",
   "metadata": {},
   "source": [
    "## Main Pipeline Implementation"
   ]
  },
  {
   "cell_type": "code",
   "execution_count": 7,
   "metadata": {},
   "outputs": [],
   "source": [
    "def ProcessImage(imgIn):\n",
    "    \"\"\"\n",
    "    Wrapper function - because moviepy process function does not like the extra return obj\n",
    "    \"\"\"\n",
    "    pipelineImages, imgOut = ProcessImageLowlevel(imgIn)\n",
    "    return imgOut\n",
    "    \n",
    "def ProcessImageLowlevel(imgIn, imgInFileName=\"imageIn\"):\n",
    "    \"\"\"\n",
    "    Create the pipeline processed image on the input image.\n",
    "    :param imgIn: Input matplotlib image\n",
    "    :param imgInFileName: Optional filename of the input image - for debug display\n",
    "    :returns imgOut: The processed image final result\n",
    "    :returns pipelineImages: A list of the intermediate images of the pipeline for debug display\n",
    "    \"\"\"\n",
    "    imgGray = cv2.cvtColor(imgIn, cv2.COLOR_RGB2GRAY)\n",
    "\n",
    "    # Define a kernel size and apply Gaussian smoothing\n",
    "    kernelSize = (5, 5)\n",
    "    imgBlurGray = cv2.GaussianBlur(imgGray, kernelSize, 0)\n",
    "\n",
    "    # Define our parameters for Canny and apply\n",
    "    low_threshold = 50\n",
    "    high_threshold = 150\n",
    "    imgEdges = cv2.Canny(imgBlurGray, low_threshold, high_threshold)\n",
    "\n",
    "    # This time we are defining a four sided polygon to mask\n",
    "    # Next we'll create a masked edges image using cv2.fillPoly()\n",
    "    maskROI = np.zeros_like(imgEdges)   \n",
    "    ignore_mask_color = 255   \n",
    "    \n",
    "    # Region of interest mask polygon\n",
    "    iHeight = imgIn.shape[0]\n",
    "    iWidth = imgIn.shape[1]\n",
    "    trapTop = 320\n",
    "    leftbottom = (110, iHeight)\n",
    "    lefttop = (440, trapTop)\n",
    "    righttop = (520, trapTop)\n",
    "    rightbottom = (iWidth-75, iHeight)\n",
    "    \n",
    "    vertices = np.array([[ leftbottom, lefttop, righttop, rightbottom]], dtype=np.int32)\n",
    "    cv2.fillPoly(maskROI, vertices, ignore_mask_color)\n",
    "    imgMaskedEdges = cv2.bitwise_and(imgEdges, maskROI)\n",
    "    \n",
    "    maskROI3Ch = np.dstack((maskROI, maskROI, maskROI)) \n",
    "    imgMaskedInput = cv2.bitwise_and(imgIn, maskROI3Ch)\n",
    "    \n",
    "    # Define the Hough transform parameters\n",
    "    # Make a blank the same size as our image to draw on\n",
    "    rho = 1 # distance resolution in pixels of the Hough grid\n",
    "    theta =   0.1 * np.pi/180 # angular resolution in radians of the Hough grid\n",
    "    threshold = 50    # minimum number of votes (intersections in Hough grid cell)\n",
    "    min_line_length = 50#minimum number of pixels making up a line\n",
    "    max_line_gap = 200    # maximum gap in pixels between connectable line segments\n",
    "    imgLines = np.zeros_like(imgIn)   \n",
    "    \n",
    "    # Run Hough on edge detected image\n",
    "    # Output \"lines\" is an array containing endpoints of detected line segments\n",
    "    lines = cv2.HoughLinesP(imgMaskedEdges, rho, theta, threshold, np.array([]), min_line_length, max_line_gap)\n",
    "\n",
    "    # Iterate over the output \"lines\" and draw lines on a blank image\n",
    "    print(\"numLines: \", len(lines))\n",
    "    slopesP = []\n",
    "    slopesN = []\n",
    "    \n",
    "    for line in lines:  \n",
    "        #print(line[0])\n",
    "        for x1,y1,x2,y2 in line:            \n",
    "            cv2.line(imgLines, (x1,y1), (x2,y2), (255,0,0), 10)\n",
    "            lineExt = ExtendLineSegment(line[0], extFactor = 1)\n",
    "            x1,y1,x2,y2 = lineExt\n",
    "            cv2.line(imgLines, (x1,y1), (x2,y2), (255,0,0), 10)\n",
    "            \n",
    "            slope = CalcSlope(line[0])          \n",
    "            if (slope > 0):\n",
    "                slopesP.append(slope)\n",
    "            else:\n",
    "                slopesN.append(slope)            \n",
    "            \n",
    "    # Create a \"color\" binary image to combine with line image\n",
    "    imgEdges3Ch = np.dstack((imgEdges, imgEdges, imgEdges)) \n",
    "    \n",
    "    # Draw the lines on the edge image\n",
    "    imgLinesEdges = cv2.addWeighted(imgEdges3Ch, 1, imgLines, 1.0, 0)\n",
    "    \n",
    "    # Overlay lines on input image\n",
    "    imgLinesOnInput = cv2.addWeighted(imgLines, 1, imgIn, 0.7, 20) \n",
    "    #imgLinesOnInput = imgIn.copy()\n",
    "    #lineMaskPixels = np.where(imgLines[:, :, 0] != 0)\n",
    "    #imgLinesOnInput[lineMaskPixels] = imgLines[lineMaskPixels]\n",
    "    \n",
    "    imgOut = imgLinesOnInput\n",
    "    # Create list of images for each step for dev/debug\n",
    "    doDebugImages = True\n",
    "    if doDebugImages :\n",
    "        pipelineImages = [\n",
    "            (imgInFileName, imgIn),\n",
    "            (\"imgMaskedInput\", imgMaskedInput),\n",
    "            #(\"imgGray\", np.dstack((imgGray, imgGray, imgGray)) ),\n",
    "            #(\"imgBlurGray\", cv2.cvtColor(imgBlurGray,cv2.COLOR_GRAY2RGB)),\n",
    "            (\"imgEdges\", cv2.cvtColor(imgEdges,cv2.COLOR_GRAY2RGB)),\n",
    "            (\"imgMaskedEdges\", cv2.cvtColor(imgMaskedEdges,cv2.COLOR_GRAY2RGB)),\n",
    "            #(\"imgLines\", imgLines),\n",
    "            (\"imgLinesEdges\", imgLinesEdges),\n",
    "            (\"imgLinesOnInput\", imgLinesOnInput),\n",
    "            (\"imgOut\", imgOut),        \n",
    "        ]\n",
    "    else:\n",
    "        pipelineImages = None        \n",
    "    return pipelineImages, imgOut\n"
   ]
  },
  {
   "cell_type": "code",
   "execution_count": 8,
   "metadata": {},
   "outputs": [
    {
     "name": "stdout",
     "output_type": "stream",
     "text": [
      "numLines:  35\n"
     ]
    },
    {
     "data": {
      "image/png": "[encoded data removed]",
      "text/plain": [
       "<matplotlib.figure.Figure at 0x7f1da5e6a908>"
      ]
     },
     "metadata": {},
     "output_type": "display_data"
    }
   ],
   "source": [
    "def ProcessSingleImage(imgInFileName):\n",
    "    imgIn = mpimg.imread(imgInFileName)\n",
    "    pipelineImgRecords, imgOut = ProcessImageLowlevel(imgIn, imgInFileName)\n",
    "    PlotImageRecords(pipelineImgRecords)\n",
    "\n",
    "imgInFileName = 'test_images/solidYellowLeft.jpg'\n",
    "#imgInFileName = 'test_images/traingleQuiz.jpg'\n",
    "#imgInFileName = 'test_images/whiteCarLaneSwitch.jpg'\n",
    "#imgInFileName = 'test_images/solidYellowCurve2.jpg'\n",
    "#imgInFileName = 'test_images/solidWhiteCurve.jpg'\n",
    "imgInFileName = 'test_images/solidWhiteRight.jpg'\n",
    "#imgInFileName = 'test_images/solidYellowCurve.jpg'\n",
    "imgInFileName = \"ImagesIn/VideosIn/project_video_frames/project_video_f0614.jpg\"\n",
    "\n",
    "ProcessSingleImage(imgInFileName)\n",
    "\n"
   ]
  },
  {
   "cell_type": "code",
   "execution_count": 9,
   "metadata": {},
   "outputs": [
    {
     "name": "stdout",
     "output_type": "stream",
     "text": [
      "numLines:  7\n",
      "[MoviePy] >>>> Building video test_videos_output/solidYellowLeft_2018-08-15T19:27:27.mp4\n",
      "[MoviePy] Writing video test_videos_output/solidYellowLeft_2018-08-15T19:27:27.mp4\n"
     ]
    },
    {
     "name": "stderr",
     "output_type": "stream",
     "text": [
      "  0%|          | 3/682 [00:00<00:25, 26.35it/s]"
     ]
    },
    {
     "name": "stdout",
     "output_type": "stream",
     "text": [
      "numLines:  7\n",
      "numLines:  11\n",
      "numLines:  9\n",
      "numLines:  9\n",
      "numLines:  9\n"
     ]
    },
    {
     "name": "stderr",
     "output_type": "stream",
     "text": [
      "\r",
      "  1%|          | 6/682 [00:00<00:26, 25.90it/s]"
     ]
    },
    {
     "name": "stdout",
     "output_type": "stream",
     "text": [
      "numLines:  7\n"
     ]
    },
    {
     "name": "stderr",
     "output_type": "stream",
     "text": [
      "\r",
      "  1%|▏         | 10/682 [00:00<00:23, 28.85it/s]"
     ]
    },
    {
     "name": "stdout",
     "output_type": "stream",
     "text": [
      "numLines:  7\n",
      "numLines:  8\n",
      "numLines:  8\n",
      "numLines:  11\n",
      "numLines:  7\n",
      "numLines:  9\n"
     ]
    },
    {
     "name": "stderr",
     "output_type": "stream",
     "text": [
      "\r",
      "  2%|▏         | 13/682 [00:00<00:23, 28.69it/s]"
     ]
    },
    {
     "name": "stdout",
     "output_type": "stream",
     "text": [
      "numLines:  8\n"
     ]
    },
    {
     "name": "stderr",
     "output_type": "stream",
     "text": [
      "\r",
      "  2%|▏         | 17/682 [00:00<00:22, 29.67it/s]"
     ]
    },
    {
     "name": "stdout",
     "output_type": "stream",
     "text": [
      "numLines:  11\n",
      "numLines:  11\n",
      "numLines:  9\n",
      "numLines:  10\n",
      "numLines:  7\n",
      "numLines:  7\n",
      "numLines:  6\n"
     ]
    },
    {
     "name": "stderr",
     "output_type": "stream",
     "text": [
      "  4%|▎         | 24/682 [00:00<00:21, 30.20it/s]"
     ]
    },
    {
     "name": "stdout",
     "output_type": "stream",
     "text": [
      "numLines:  8\n",
      "numLines:  6\n",
      "numLines:  7\n",
      "numLines:  8\n",
      "numLines:  10\n",
      "numLines:  8\n",
      "numLines:  10\n"
     ]
    },
    {
     "name": "stderr",
     "output_type": "stream",
     "text": [
      "\r",
      "  4%|▍         | 27/682 [00:00<00:22, 29.55it/s]"
     ]
    },
    {
     "name": "stdout",
     "output_type": "stream",
     "text": [
      "numLines:  9\n",
      "numLines:  10\n",
      "numLines:  8\n"
     ]
    },
    {
     "name": "stderr",
     "output_type": "stream",
     "text": [
      "\r",
      "  4%|▍         | 30/682 [00:01<00:22, 29.28it/s]"
     ]
    },
    {
     "name": "stdout",
     "output_type": "stream",
     "text": [
      "numLines:  8\n"
     ]
    },
    {
     "name": "stderr",
     "output_type": "stream",
     "text": [
      "\r",
      "  5%|▍         | 34/682 [00:01<00:21, 29.67it/s]"
     ]
    },
    {
     "name": "stdout",
     "output_type": "stream",
     "text": [
      "numLines:  8\n",
      "numLines:  9\n",
      "numLines:  8\n",
      "numLines:  10\n",
      "numLines:  9\n",
      "numLines:  9\n"
     ]
    },
    {
     "name": "stderr",
     "output_type": "stream",
     "text": [
      "\r",
      "  6%|▌         | 38/682 [00:01<00:21, 29.84it/s]"
     ]
    },
    {
     "name": "stdout",
     "output_type": "stream",
     "text": [
      "numLines:  10\n",
      "numLines:  8\n",
      "numLines:  10\n"
     ]
    },
    {
     "name": "stderr",
     "output_type": "stream",
     "text": [
      "\r",
      "  6%|▌         | 41/682 [00:01<00:21, 29.52it/s]"
     ]
    },
    {
     "name": "stdout",
     "output_type": "stream",
     "text": [
      "numLines:  8\n",
      "numLines:  7\n",
      "numLines:  7\n"
     ]
    },
    {
     "name": "stderr",
     "output_type": "stream",
     "text": [
      "\r",
      "  6%|▋         | 44/682 [00:01<00:22, 28.26it/s]"
     ]
    },
    {
     "name": "stdout",
     "output_type": "stream",
     "text": [
      "numLines:  7\n",
      "numLines:  9\n",
      "numLines:  7\n"
     ]
    },
    {
     "name": "stderr",
     "output_type": "stream",
     "text": [
      "\r",
      "  7%|▋         | 47/682 [00:01<00:22, 27.81it/s]"
     ]
    },
    {
     "name": "stdout",
     "output_type": "stream",
     "text": [
      "numLines:  9\n",
      "numLines:  10\n",
      "numLines:  8\n"
     ]
    },
    {
     "name": "stderr",
     "output_type": "stream",
     "text": [
      "\r",
      "  7%|▋         | 50/682 [00:01<00:23, 27.21it/s]"
     ]
    },
    {
     "name": "stdout",
     "output_type": "stream",
     "text": [
      "numLines:  8\n",
      "numLines:  10\n",
      "numLines:  10\n"
     ]
    },
    {
     "name": "stderr",
     "output_type": "stream",
     "text": [
      "\r",
      "  8%|▊         | 53/682 [00:02<00:25, 24.70it/s]"
     ]
    },
    {
     "name": "stdout",
     "output_type": "stream",
     "text": [
      "numLines:  8\n",
      "numLines:  8\n"
     ]
    },
    {
     "name": "stderr",
     "output_type": "stream",
     "text": [
      "\r",
      "  8%|▊         | 56/682 [00:02<00:25, 24.33it/s]"
     ]
    },
    {
     "name": "stdout",
     "output_type": "stream",
     "text": [
      "numLines:  7\n",
      "numLines:  8\n",
      "numLines:  9\n",
      "numLines:  7\n"
     ]
    },
    {
     "name": "stderr",
     "output_type": "stream",
     "text": [
      "\r",
      "  9%|▊         | 58/682 [00:02<00:26, 23.48it/s]"
     ]
    },
    {
     "name": "stdout",
     "output_type": "stream",
     "text": [
      "numLines:  6\n"
     ]
    },
    {
     "name": "stderr",
     "output_type": "stream",
     "text": [
      "\r",
      "  9%|▉         | 60/682 [00:02<00:27, 22.95it/s]"
     ]
    },
    {
     "name": "stdout",
     "output_type": "stream",
     "text": [
      "numLines:  9\n",
      "numLines:  9\n",
      "numLines:  9\n",
      "numLines:  10\n"
     ]
    },
    {
     "name": "stderr",
     "output_type": "stream",
     "text": [
      "\r",
      "  9%|▉         | 63/682 [00:02<00:26, 23.01it/s]"
     ]
    },
    {
     "name": "stdout",
     "output_type": "stream",
     "text": [
      "numLines:  9\n"
     ]
    },
    {
     "name": "stderr",
     "output_type": "stream",
     "text": [
      "\r",
      " 10%|▉         | 66/682 [00:02<00:26, 22.96it/s]"
     ]
    },
    {
     "name": "stdout",
     "output_type": "stream",
     "text": [
      "numLines:  10\n",
      "numLines:  9\n",
      "numLines:  8\n",
      "numLines:  6\n"
     ]
    },
    {
     "name": "stderr",
     "output_type": "stream",
     "text": [
      "\r",
      " 10%|█         | 69/682 [00:03<00:26, 22.97it/s]"
     ]
    },
    {
     "name": "stdout",
     "output_type": "stream",
     "text": [
      "numLines:  7\n",
      "numLines:  8\n",
      "numLines:  7\n",
      "numLines:  7\n"
     ]
    },
    {
     "name": "stderr",
     "output_type": "stream",
     "text": [
      " 11%|█         | 75/682 [00:03<00:27, 22.16it/s]"
     ]
    },
    {
     "name": "stdout",
     "output_type": "stream",
     "text": [
      "numLines:  8\n",
      "numLines:  9\n",
      "numLines:  9\n",
      "numLines:  9\n"
     ]
    },
    {
     "name": "stderr",
     "output_type": "stream",
     "text": [
      "\r",
      " 11%|█▏        | 77/682 [00:03<00:27, 22.03it/s]"
     ]
    },
    {
     "name": "stdout",
     "output_type": "stream",
     "text": [
      "numLines:  8\n"
     ]
    },
    {
     "name": "stderr",
     "output_type": "stream",
     "text": [
      "\r",
      " 12%|█▏        | 79/682 [00:03<00:28, 21.48it/s]"
     ]
    },
    {
     "name": "stdout",
     "output_type": "stream",
     "text": [
      "numLines:  8\n",
      "numLines:  9\n",
      "numLines:  8\n",
      "numLines:  7\n"
     ]
    },
    {
     "name": "stderr",
     "output_type": "stream",
     "text": [
      " 12%|█▏        | 84/682 [00:03<00:27, 21.57it/s]"
     ]
    },
    {
     "name": "stdout",
     "output_type": "stream",
     "text": [
      "numLines:  7\n",
      "numLines:  9\n",
      "numLines:  7\n",
      "numLines:  9\n"
     ]
    },
    {
     "name": "stderr",
     "output_type": "stream",
     "text": [
      "\r",
      " 13%|█▎        | 87/682 [00:04<00:27, 21.73it/s]"
     ]
    },
    {
     "name": "stdout",
     "output_type": "stream",
     "text": [
      "numLines:  9\n",
      "numLines:  7\n",
      "numLines:  8\n",
      "numLines:  10\n",
      "numLines:  8\n"
     ]
    },
    {
     "name": "stderr",
     "output_type": "stream",
     "text": [
      "\r",
      " 13%|█▎        | 90/682 [00:04<00:27, 21.61it/s]"
     ]
    },
    {
     "name": "stdout",
     "output_type": "stream",
     "text": [
      "numLines:  9\n"
     ]
    },
    {
     "name": "stderr",
     "output_type": "stream",
     "text": [
      "\r",
      " 14%|█▎        | 93/682 [00:04<00:27, 21.27it/s]"
     ]
    },
    {
     "name": "stdout",
     "output_type": "stream",
     "text": [
      "numLines:  9\n",
      "numLines:  6\n",
      "numLines:  6\n"
     ]
    },
    {
     "name": "stderr",
     "output_type": "stream",
     "text": [
      "\r",
      " 14%|█▍        | 95/682 [00:04<00:28, 20.94it/s]"
     ]
    },
    {
     "name": "stdout",
     "output_type": "stream",
     "text": [
      "numLines:  7\n",
      "numLines:  7\n",
      "numLines:  8\n",
      "numLines:  7\n"
     ]
    },
    {
     "name": "stderr",
     "output_type": "stream",
     "text": [
      "\r",
      " 14%|█▍        | 98/682 [00:04<00:27, 21.11it/s]"
     ]
    },
    {
     "name": "stdout",
     "output_type": "stream",
     "text": [
      "numLines:  8\n",
      "numLines:  7\n"
     ]
    },
    {
     "name": "stderr",
     "output_type": "stream",
     "text": [
      "\r",
      " 15%|█▍        | 101/682 [00:04<00:27, 21.19it/s]"
     ]
    },
    {
     "name": "stdout",
     "output_type": "stream",
     "text": [
      "numLines:  7\n",
      "numLines:  8\n",
      "numLines:  10\n"
     ]
    },
    {
     "name": "stderr",
     "output_type": "stream",
     "text": [
      "\r",
      " 15%|█▌        | 104/682 [00:04<00:27, 21.09it/s]"
     ]
    },
    {
     "name": "stdout",
     "output_type": "stream",
     "text": [
      "numLines:  11\n"
     ]
    },
    {
     "name": "stderr",
     "output_type": "stream",
     "text": [
      "\r",
      " 16%|█▌        | 107/682 [00:05<00:27, 21.14it/s]"
     ]
    },
    {
     "name": "stdout",
     "output_type": "stream",
     "text": [
      "numLines:  9\n",
      "numLines:  11\n",
      "numLines:  8\n",
      "numLines:  8\n",
      "numLines:  7\n"
     ]
    },
    {
     "name": "stderr",
     "output_type": "stream",
     "text": [
      "\r",
      " 16%|█▌        | 110/682 [00:05<00:27, 21.09it/s]"
     ]
    },
    {
     "name": "stdout",
     "output_type": "stream",
     "text": [
      "numLines:  8\n",
      "numLines:  7\n",
      "numLines:  9\n",
      "numLines:  9\n"
     ]
    },
    {
     "name": "stderr",
     "output_type": "stream",
     "text": [
      " 17%|█▋        | 116/682 [00:05<00:26, 21.04it/s]"
     ]
    },
    {
     "name": "stdout",
     "output_type": "stream",
     "text": [
      "numLines:  10\n",
      "numLines:  10\n",
      "numLines:  9\n",
      "numLines:  10\n",
      "numLines:  9\n",
      "numLines:  8\n"
     ]
    },
    {
     "name": "stderr",
     "output_type": "stream",
     "text": [
      " 18%|█▊        | 123/682 [00:05<00:26, 21.25it/s]"
     ]
    },
    {
     "name": "stdout",
     "output_type": "stream",
     "text": [
      "numLines:  8\n",
      "numLines:  8\n",
      "numLines:  8\n",
      "numLines:  9\n",
      "numLines:  9\n"
     ]
    },
    {
     "name": "stderr",
     "output_type": "stream",
     "text": [
      "\r",
      " 18%|█▊        | 126/682 [00:05<00:26, 21.18it/s]"
     ]
    },
    {
     "name": "stdout",
     "output_type": "stream",
     "text": [
      "numLines:  7\n",
      "numLines:  8\n",
      "numLines:  8\n"
     ]
    },
    {
     "name": "stderr",
     "output_type": "stream",
     "text": [
      " 19%|█▉        | 132/682 [00:06<00:26, 21.14it/s]"
     ]
    },
    {
     "name": "stdout",
     "output_type": "stream",
     "text": [
      "numLines:  11\n",
      "numLines:  9\n",
      "numLines:  8\n",
      "numLines:  9\n",
      "numLines:  6\n"
     ]
    },
    {
     "name": "stderr",
     "output_type": "stream",
     "text": [
      "\r",
      " 20%|█▉        | 135/682 [00:06<00:25, 21.15it/s]"
     ]
    },
    {
     "name": "stdout",
     "output_type": "stream",
     "text": [
      "numLines:  6\n",
      "numLines:  7\n",
      "numLines:  7\n",
      "numLines:  10\n",
      "numLines:  7\n",
      "numLines:  7\n"
     ]
    },
    {
     "name": "stderr",
     "output_type": "stream",
     "text": [
      " 21%|██        | 141/682 [00:06<00:25, 21.24it/s]"
     ]
    },
    {
     "name": "stdout",
     "output_type": "stream",
     "text": [
      "numLines:  9\n",
      "numLines:  9\n",
      "numLines:  11\n",
      "numLines:  10\n",
      "numLines:  10\n"
     ]
    },
    {
     "name": "stderr",
     "output_type": "stream",
     "text": [
      " 22%|██▏       | 147/682 [00:06<00:25, 21.32it/s]"
     ]
    },
    {
     "name": "stdout",
     "output_type": "stream",
     "text": [
      "numLines:  7\n",
      "numLines:  6\n",
      "numLines:  6\n",
      "numLines:  7\n",
      "numLines:  7\n"
     ]
    },
    {
     "name": "stderr",
     "output_type": "stream",
     "text": [
      "\r",
      " 22%|██▏       | 150/682 [00:07<00:25, 21.24it/s]"
     ]
    },
    {
     "name": "stdout",
     "output_type": "stream",
     "text": [
      "numLines:  8\n",
      "numLines:  7\n",
      "numLines:  9\n",
      "numLines:  9\n"
     ]
    },
    {
     "name": "stderr",
     "output_type": "stream",
     "text": [
      " 23%|██▎       | 156/682 [00:07<00:24, 21.22it/s]"
     ]
    },
    {
     "name": "stdout",
     "output_type": "stream",
     "text": [
      "numLines:  9\n",
      "numLines:  8\n",
      "numLines:  11\n",
      "numLines:  8\n",
      "numLines:  7\n"
     ]
    },
    {
     "name": "stderr",
     "output_type": "stream",
     "text": [
      " 24%|██▍       | 162/682 [00:07<00:24, 21.09it/s]"
     ]
    },
    {
     "name": "stdout",
     "output_type": "stream",
     "text": [
      "numLines:  8\n",
      "numLines:  9\n",
      "numLines:  9\n",
      "numLines:  9\n",
      "numLines:  10\n"
     ]
    },
    {
     "name": "stderr",
     "output_type": "stream",
     "text": [
      "\r",
      " 24%|██▍       | 165/682 [00:07<00:24, 21.11it/s]"
     ]
    },
    {
     "name": "stdout",
     "output_type": "stream",
     "text": [
      "numLines:  11\n",
      "numLines:  9\n",
      "numLines:  9\n",
      "numLines:  9\n",
      "numLines:  10\n"
     ]
    },
    {
     "name": "stderr",
     "output_type": "stream",
     "text": [
      " 25%|██▌       | 171/682 [00:08<00:24, 21.19it/s]"
     ]
    },
    {
     "name": "stdout",
     "output_type": "stream",
     "text": [
      "numLines:  8\n",
      "numLines:  7\n",
      "numLines:  8\n",
      "numLines:  7\n",
      "numLines:  10\n"
     ]
    },
    {
     "name": "stderr",
     "output_type": "stream",
     "text": [
      "\r",
      " 26%|██▌       | 174/682 [00:08<00:23, 21.17it/s]"
     ]
    },
    {
     "name": "stdout",
     "output_type": "stream",
     "text": [
      "numLines:  9\n",
      "numLines:  8\n",
      "numLines:  9\n",
      "numLines:  9\n"
     ]
    },
    {
     "name": "stderr",
     "output_type": "stream",
     "text": [
      " 26%|██▋       | 180/682 [00:08<00:23, 21.11it/s]"
     ]
    },
    {
     "name": "stdout",
     "output_type": "stream",
     "text": [
      "numLines:  10\n",
      "numLines:  9\n",
      "numLines:  7\n",
      "numLines:  9\n"
     ]
    },
    {
     "name": "stderr",
     "output_type": "stream",
     "text": [
      "\r",
      " 27%|██▋       | 183/682 [00:08<00:23, 21.18it/s]"
     ]
    },
    {
     "name": "stdout",
     "output_type": "stream",
     "text": [
      "numLines:  10\n",
      "numLines:  6\n",
      "numLines:  7\n",
      "numLines:  8\n",
      "numLines:  7\n"
     ]
    },
    {
     "name": "stderr",
     "output_type": "stream",
     "text": [
      " 28%|██▊       | 189/682 [00:08<00:23, 21.19it/s]"
     ]
    },
    {
     "name": "stdout",
     "output_type": "stream",
     "text": [
      "numLines:  10\n",
      "numLines:  6\n",
      "numLines:  8\n",
      "numLines:  10\n",
      "numLines:  10\n",
      "numLines:  8\n"
     ]
    },
    {
     "name": "stderr",
     "output_type": "stream",
     "text": [
      " 29%|██▊       | 195/682 [00:09<00:23, 21.14it/s]"
     ]
    },
    {
     "name": "stdout",
     "output_type": "stream",
     "text": [
      "numLines:  7\n",
      "numLines:  8\n",
      "numLines:  7\n",
      "numLines:  8\n"
     ]
    },
    {
     "name": "stderr",
     "output_type": "stream",
     "text": [
      "\r",
      " 29%|██▉       | 198/682 [00:09<00:22, 21.14it/s]"
     ]
    },
    {
     "name": "stdout",
     "output_type": "stream",
     "text": [
      "numLines:  7\n",
      "numLines:  8\n",
      "numLines:  8\n",
      "numLines:  9\n",
      "numLines:  9\n",
      "numLines:  8\n"
     ]
    },
    {
     "name": "stderr",
     "output_type": "stream",
     "text": [
      " 30%|██▉       | 204/682 [00:09<00:22, 21.22it/s]"
     ]
    },
    {
     "name": "stdout",
     "output_type": "stream",
     "text": [
      "numLines:  8\n",
      "numLines:  11\n",
      "numLines:  9\n",
      "numLines:  11\n",
      "numLines:  10\n"
     ]
    },
    {
     "name": "stderr",
     "output_type": "stream",
     "text": [
      " 31%|███       | 210/682 [00:09<00:22, 21.28it/s]"
     ]
    },
    {
     "name": "stdout",
     "output_type": "stream",
     "text": [
      "numLines:  9\n",
      "numLines:  8\n",
      "numLines:  8\n",
      "numLines:  7\n",
      "numLines:  7\n"
     ]
    },
    {
     "name": "stderr",
     "output_type": "stream",
     "text": [
      " 32%|███▏      | 216/682 [00:10<00:21, 21.35it/s]"
     ]
    },
    {
     "name": "stdout",
     "output_type": "stream",
     "text": [
      "numLines:  8\n",
      "numLines:  10\n",
      "numLines:  8\n",
      "numLines:  8\n",
      "numLines:  10\n",
      "numLines:  8\n"
     ]
    },
    {
     "name": "stderr",
     "output_type": "stream",
     "text": [
      " 33%|███▎      | 222/682 [00:10<00:21, 21.40it/s]"
     ]
    },
    {
     "name": "stdout",
     "output_type": "stream",
     "text": [
      "numLines:  9\n",
      "numLines:  6\n",
      "numLines:  7\n",
      "numLines:  8\n",
      "numLines:  9\n"
     ]
    },
    {
     "name": "stderr",
     "output_type": "stream",
     "text": [
      "\r",
      " 33%|███▎      | 225/682 [00:10<00:21, 21.45it/s]"
     ]
    },
    {
     "name": "stdout",
     "output_type": "stream",
     "text": [
      "numLines:  7\n",
      "numLines:  9\n",
      "numLines:  7\n",
      "numLines:  7\n",
      "numLines:  10\n"
     ]
    },
    {
     "name": "stderr",
     "output_type": "stream",
     "text": [
      " 34%|███▍      | 231/682 [00:10<00:20, 21.48it/s]"
     ]
    },
    {
     "name": "stdout",
     "output_type": "stream",
     "text": [
      "numLines:  8\n",
      "numLines:  10\n",
      "numLines:  8\n",
      "numLines:  7\n",
      "numLines:  6\n"
     ]
    },
    {
     "name": "stderr",
     "output_type": "stream",
     "text": [
      " 35%|███▍      | 237/682 [00:11<00:20, 21.51it/s]"
     ]
    },
    {
     "name": "stdout",
     "output_type": "stream",
     "text": [
      "numLines:  7\n",
      "numLines:  8\n",
      "numLines:  7\n",
      "numLines:  7\n",
      "numLines:  8\n"
     ]
    },
    {
     "name": "stderr",
     "output_type": "stream",
     "text": [
      "\r",
      " 35%|███▌      | 240/682 [00:11<00:20, 21.47it/s]"
     ]
    },
    {
     "name": "stdout",
     "output_type": "stream",
     "text": [
      "numLines:  8\n",
      "numLines:  10\n",
      "numLines:  10\n",
      "numLines:  8\n",
      "numLines:  7\n"
     ]
    },
    {
     "name": "stderr",
     "output_type": "stream",
     "text": [
      " 36%|███▌      | 246/682 [00:11<00:20, 21.57it/s]"
     ]
    },
    {
     "name": "stdout",
     "output_type": "stream",
     "text": [
      "numLines:  7\n",
      "numLines:  6\n",
      "numLines:  7\n",
      "numLines:  8\n",
      "numLines:  8\n",
      "numLines:  8\n"
     ]
    },
    {
     "name": "stderr",
     "output_type": "stream",
     "text": [
      " 37%|███▋      | 252/682 [00:11<00:19, 21.61it/s]"
     ]
    },
    {
     "name": "stdout",
     "output_type": "stream",
     "text": [
      "numLines:  8\n",
      "numLines:  9\n",
      "numLines:  10\n",
      "numLines:  10\n",
      "numLines:  10\n"
     ]
    },
    {
     "name": "stderr",
     "output_type": "stream",
     "text": [
      "\r",
      " 37%|███▋      | 255/682 [00:11<00:19, 21.63it/s]"
     ]
    },
    {
     "name": "stdout",
     "output_type": "stream",
     "text": [
      "numLines:  11\n",
      "numLines:  11\n",
      "numLines:  9\n",
      "numLines:  11\n",
      "numLines:  7\n"
     ]
    },
    {
     "name": "stderr",
     "output_type": "stream",
     "text": [
      " 38%|███▊      | 261/682 [00:12<00:19, 21.62it/s]"
     ]
    },
    {
     "name": "stdout",
     "output_type": "stream",
     "text": [
      "numLines:  7\n",
      "numLines:  8\n",
      "numLines:  8\n",
      "numLines:  7\n",
      "numLines:  6\n",
      "numLines:  8\n"
     ]
    },
    {
     "name": "stderr",
     "output_type": "stream",
     "text": [
      " 39%|███▉      | 267/682 [00:12<00:19, 21.60it/s]"
     ]
    },
    {
     "name": "stdout",
     "output_type": "stream",
     "text": [
      "numLines:  9\n",
      "numLines:  9\n",
      "numLines:  10\n",
      "numLines:  9\n",
      "numLines:  9\n"
     ]
    },
    {
     "name": "stderr",
     "output_type": "stream",
     "text": [
      " 40%|████      | 273/682 [00:12<00:18, 21.65it/s]"
     ]
    },
    {
     "name": "stdout",
     "output_type": "stream",
     "text": [
      "numLines:  8\n",
      "numLines:  6\n",
      "numLines:  7\n",
      "numLines:  8\n",
      "numLines:  8\n"
     ]
    },
    {
     "name": "stderr",
     "output_type": "stream",
     "text": [
      "\r",
      " 40%|████      | 276/682 [00:12<00:18, 21.70it/s]"
     ]
    },
    {
     "name": "stdout",
     "output_type": "stream",
     "text": [
      "numLines:  7\n",
      "numLines:  9\n",
      "numLines:  10\n",
      "numLines:  7\n",
      "numLines:  8\n"
     ]
    },
    {
     "name": "stderr",
     "output_type": "stream",
     "text": [
      " 42%|████▏     | 285/682 [00:13<00:18, 21.74it/s]"
     ]
    },
    {
     "name": "stdout",
     "output_type": "stream",
     "text": [
      "numLines:  8\n",
      "numLines:  9\n",
      "numLines:  8\n",
      "numLines:  7\n",
      "numLines:  9\n",
      "numLines:  11\n"
     ]
    },
    {
     "name": "stderr",
     "output_type": "stream",
     "text": [
      "\r",
      " 42%|████▏     | 288/682 [00:13<00:18, 21.72it/s]"
     ]
    },
    {
     "name": "stdout",
     "output_type": "stream",
     "text": [
      "numLines:  9\n",
      "numLines:  13\n",
      "numLines:  12\n",
      "numLines:  11\n",
      "numLines:  11\n"
     ]
    },
    {
     "name": "stderr",
     "output_type": "stream",
     "text": [
      " 43%|████▎     | 294/682 [00:13<00:17, 21.69it/s]"
     ]
    },
    {
     "name": "stdout",
     "output_type": "stream",
     "text": [
      "numLines:  14\n",
      "numLines:  11\n",
      "numLines:  9\n",
      "numLines:  8\n",
      "numLines:  6\n"
     ]
    },
    {
     "name": "stderr",
     "output_type": "stream",
     "text": [
      " 44%|████▍     | 301/682 [00:13<00:17, 21.80it/s]"
     ]
    },
    {
     "name": "stdout",
     "output_type": "stream",
     "text": [
      "numLines:  6\n",
      "numLines:  9\n",
      "numLines:  8\n",
      "numLines:  10\n",
      "numLines:  8\n",
      "numLines:  9\n"
     ]
    },
    {
     "name": "stderr",
     "output_type": "stream",
     "text": [
      "\r",
      " 45%|████▍     | 304/682 [00:13<00:17, 21.77it/s]"
     ]
    },
    {
     "name": "stdout",
     "output_type": "stream",
     "text": [
      "numLines:  11\n",
      "numLines:  10\n",
      "numLines:  11\n",
      "numLines:  8\n",
      "numLines:  9\n"
     ]
    },
    {
     "name": "stderr",
     "output_type": "stream",
     "text": [
      " 45%|████▌     | 310/682 [00:14<00:17, 21.85it/s]"
     ]
    },
    {
     "name": "stdout",
     "output_type": "stream",
     "text": [
      "numLines:  8\n",
      "numLines:  7\n",
      "numLines:  6\n",
      "numLines:  7\n",
      "numLines:  10\n"
     ]
    },
    {
     "name": "stderr",
     "output_type": "stream",
     "text": [
      " 46%|████▋     | 316/682 [00:14<00:16, 21.83it/s]"
     ]
    },
    {
     "name": "stdout",
     "output_type": "stream",
     "text": [
      "numLines:  9\n",
      "numLines:  9\n",
      "numLines:  9\n",
      "numLines:  10\n",
      "numLines:  10\n"
     ]
    },
    {
     "name": "stderr",
     "output_type": "stream",
     "text": [
      "\r",
      " 47%|████▋     | 319/682 [00:14<00:16, 21.85it/s]"
     ]
    },
    {
     "name": "stdout",
     "output_type": "stream",
     "text": [
      "numLines:  9\n",
      "numLines:  10\n",
      "numLines:  8\n",
      "numLines:  9\n",
      "numLines:  9\n"
     ]
    },
    {
     "name": "stderr",
     "output_type": "stream",
     "text": [
      " 48%|████▊     | 325/682 [00:14<00:16, 21.88it/s]"
     ]
    },
    {
     "name": "stdout",
     "output_type": "stream",
     "text": [
      "numLines:  8\n",
      "numLines:  8\n",
      "numLines:  10\n",
      "numLines:  7\n",
      "numLines:  10\n",
      "numLines:  9\n"
     ]
    },
    {
     "name": "stderr",
     "output_type": "stream",
     "text": [
      " 49%|████▊     | 331/682 [00:15<00:16, 21.81it/s]"
     ]
    },
    {
     "name": "stdout",
     "output_type": "stream",
     "text": [
      "numLines:  8\n",
      "numLines:  9\n",
      "numLines:  8\n",
      "numLines:  7\n",
      "numLines:  8\n"
     ]
    },
    {
     "name": "stderr",
     "output_type": "stream",
     "text": [
      "\r",
      " 49%|████▉     | 334/682 [00:15<00:15, 21.84it/s]"
     ]
    },
    {
     "name": "stdout",
     "output_type": "stream",
     "text": [
      "numLines:  8\n",
      "numLines:  8\n",
      "numLines:  8\n",
      "numLines:  8\n",
      "numLines:  7\n"
     ]
    },
    {
     "name": "stderr",
     "output_type": "stream",
     "text": [
      " 50%|████▉     | 340/682 [00:15<00:15, 21.85it/s]"
     ]
    },
    {
     "name": "stdout",
     "output_type": "stream",
     "text": [
      "numLines:  9\n",
      "numLines:  8\n",
      "numLines:  8\n",
      "numLines:  8\n",
      "numLines:  7\n",
      "numLines:  6\n"
     ]
    },
    {
     "name": "stderr",
     "output_type": "stream",
     "text": [
      " 51%|█████     | 346/682 [00:15<00:15, 21.87it/s]"
     ]
    },
    {
     "name": "stdout",
     "output_type": "stream",
     "text": [
      "numLines:  5\n",
      "numLines:  6\n",
      "numLines:  7\n",
      "numLines:  9\n",
      "numLines:  7\n",
      "numLines:  8\n"
     ]
    },
    {
     "name": "stderr",
     "output_type": "stream",
     "text": [
      " 52%|█████▏    | 355/682 [00:16<00:14, 21.96it/s]"
     ]
    },
    {
     "name": "stdout",
     "output_type": "stream",
     "text": [
      "numLines:  9\n",
      "numLines:  9\n",
      "numLines:  8\n",
      "numLines:  10\n",
      "numLines:  9\n",
      "numLines:  7\n"
     ]
    },
    {
     "name": "stderr",
     "output_type": "stream",
     "text": [
      "\r",
      " 52%|█████▏    | 358/682 [00:16<00:14, 21.98it/s]"
     ]
    },
    {
     "name": "stdout",
     "output_type": "stream",
     "text": [
      "numLines:  7\n",
      "numLines:  6\n",
      "numLines:  7\n",
      "numLines:  8\n",
      "numLines:  9\n",
      "numLines:  8\n"
     ]
    },
    {
     "name": "stderr",
     "output_type": "stream",
     "text": [
      " 54%|█████▍    | 367/682 [00:16<00:14, 22.05it/s]"
     ]
    },
    {
     "name": "stdout",
     "output_type": "stream",
     "text": [
      "numLines:  11\n",
      "numLines:  10\n",
      "numLines:  10\n",
      "numLines:  11\n",
      "numLines:  10\n",
      "numLines:  9\n"
     ]
    },
    {
     "name": "stderr",
     "output_type": "stream",
     "text": [
      "\r",
      " 54%|█████▍    | 370/682 [00:16<00:14, 22.09it/s]"
     ]
    },
    {
     "name": "stdout",
     "output_type": "stream",
     "text": [
      "numLines:  8\n",
      "numLines:  8\n",
      "numLines:  9\n",
      "numLines:  10\n",
      "numLines:  9\n"
     ]
    },
    {
     "name": "stderr",
     "output_type": "stream",
     "text": [
      " 55%|█████▌    | 376/682 [00:17<00:13, 22.09it/s]"
     ]
    },
    {
     "name": "stdout",
     "output_type": "stream",
     "text": [
      "numLines:  9\n",
      "numLines:  10\n",
      "numLines:  9\n",
      "numLines:  8\n",
      "numLines:  9\n",
      "numLines:  9\n"
     ]
    },
    {
     "name": "stderr",
     "output_type": "stream",
     "text": [
      " 56%|█████▌    | 382/682 [00:17<00:13, 22.08it/s]"
     ]
    },
    {
     "name": "stdout",
     "output_type": "stream",
     "text": [
      "numLines:  8\n",
      "numLines:  7\n",
      "numLines:  8\n",
      "numLines:  7\n"
     ]
    },
    {
     "name": "stderr",
     "output_type": "stream",
     "text": [
      "\r",
      " 56%|█████▋    | 385/682 [00:17<00:13, 22.11it/s]"
     ]
    },
    {
     "name": "stdout",
     "output_type": "stream",
     "text": [
      "numLines:  9\n",
      "numLines:  9\n",
      "numLines:  9\n",
      "numLines:  10\n",
      "numLines:  9\n"
     ]
    },
    {
     "name": "stderr",
     "output_type": "stream",
     "text": [
      " 57%|█████▋    | 391/682 [00:17<00:13, 22.13it/s]"
     ]
    },
    {
     "name": "stdout",
     "output_type": "stream",
     "text": [
      "numLines:  11\n",
      "numLines:  11\n",
      "numLines:  10\n",
      "numLines:  9\n",
      "numLines:  8\n"
     ]
    },
    {
     "name": "stderr",
     "output_type": "stream",
     "text": [
      " 58%|█████▊    | 397/682 [00:17<00:12, 22.17it/s]"
     ]
    },
    {
     "name": "stdout",
     "output_type": "stream",
     "text": [
      "numLines:  8\n",
      "numLines:  9\n",
      "numLines:  8\n",
      "numLines:  8\n",
      "numLines:  7\n"
     ]
    },
    {
     "name": "stderr",
     "output_type": "stream",
     "text": [
      "\r",
      " 59%|█████▊    | 400/682 [00:18<00:12, 22.17it/s]"
     ]
    },
    {
     "name": "stdout",
     "output_type": "stream",
     "text": [
      "numLines:  6\n",
      "numLines:  9\n",
      "numLines:  9\n",
      "numLines:  9\n"
     ]
    },
    {
     "name": "stderr",
     "output_type": "stream",
     "text": [
      " 60%|█████▉    | 406/682 [00:18<00:12, 22.12it/s]"
     ]
    },
    {
     "name": "stdout",
     "output_type": "stream",
     "text": [
      "numLines:  9\n",
      "numLines:  8\n",
      "numLines:  8\n",
      "numLines:  7\n",
      "numLines:  8\n"
     ]
    },
    {
     "name": "stderr",
     "output_type": "stream",
     "text": [
      " 60%|██████    | 412/682 [00:18<00:12, 22.16it/s]"
     ]
    },
    {
     "name": "stdout",
     "output_type": "stream",
     "text": [
      "numLines:  8\n",
      "numLines:  7\n",
      "numLines:  10\n",
      "numLines:  12\n",
      "numLines:  9\n",
      "numLines:  11\n"
     ]
    },
    {
     "name": "stderr",
     "output_type": "stream",
     "text": [
      "\r",
      " 61%|██████    | 415/682 [00:18<00:12, 22.16it/s]"
     ]
    },
    {
     "name": "stdout",
     "output_type": "stream",
     "text": [
      "numLines:  10\n",
      "numLines:  10\n",
      "numLines:  8\n",
      "numLines:  8\n",
      "numLines:  6\n"
     ]
    },
    {
     "name": "stderr",
     "output_type": "stream",
     "text": [
      " 62%|██████▏   | 421/682 [00:19<00:11, 22.15it/s]"
     ]
    },
    {
     "name": "stdout",
     "output_type": "stream",
     "text": [
      "numLines:  7\n",
      "numLines:  7\n",
      "numLines:  8\n",
      "numLines:  9\n",
      "numLines:  10\n"
     ]
    },
    {
     "name": "stderr",
     "output_type": "stream",
     "text": [
      " 63%|██████▎   | 427/682 [00:19<00:11, 22.18it/s]"
     ]
    },
    {
     "name": "stdout",
     "output_type": "stream",
     "text": [
      "numLines:  8\n",
      "numLines:  9\n",
      "numLines:  12\n",
      "numLines:  10\n",
      "numLines:  10\n",
      "numLines:  9\n"
     ]
    },
    {
     "name": "stderr",
     "output_type": "stream",
     "text": [
      "\r",
      " 63%|██████▎   | 430/682 [00:19<00:11, 22.19it/s]"
     ]
    },
    {
     "name": "stdout",
     "output_type": "stream",
     "text": [
      "numLines:  7\n",
      "numLines:  8\n",
      "numLines:  8\n",
      "numLines:  9\n",
      "numLines:  8\n"
     ]
    },
    {
     "name": "stderr",
     "output_type": "stream",
     "text": [
      " 64%|██████▍   | 436/682 [00:19<00:11, 22.17it/s]"
     ]
    },
    {
     "name": "stdout",
     "output_type": "stream",
     "text": [
      "numLines:  8\n",
      "numLines:  10\n",
      "numLines:  10\n",
      "numLines:  10\n",
      "numLines:  10\n",
      "numLines:  11\n"
     ]
    },
    {
     "name": "stderr",
     "output_type": "stream",
     "text": [
      " 65%|██████▍   | 442/682 [00:19<00:10, 22.23it/s]"
     ]
    },
    {
     "name": "stdout",
     "output_type": "stream",
     "text": [
      "numLines:  9\n",
      "numLines:  9\n",
      "numLines:  7\n",
      "numLines:  7\n",
      "numLines:  6\n",
      "numLines:  9\n"
     ]
    },
    {
     "name": "stderr",
     "output_type": "stream",
     "text": [
      " 66%|██████▌   | 451/682 [00:20<00:10, 22.27it/s]"
     ]
    },
    {
     "name": "stdout",
     "output_type": "stream",
     "text": [
      "numLines:  8\n",
      "numLines:  9\n",
      "numLines:  8\n",
      "numLines:  9\n",
      "numLines:  9\n",
      "numLines:  10\n"
     ]
    },
    {
     "name": "stderr",
     "output_type": "stream",
     "text": [
      "\r",
      " 67%|██████▋   | 454/682 [00:20<00:10, 22.24it/s]"
     ]
    },
    {
     "name": "stdout",
     "output_type": "stream",
     "text": [
      "numLines:  10\n",
      "numLines:  7\n",
      "numLines:  8\n",
      "numLines:  9\n",
      "numLines:  7\n"
     ]
    },
    {
     "name": "stderr",
     "output_type": "stream",
     "text": [
      " 68%|██████▊   | 461/682 [00:20<00:09, 22.29it/s]"
     ]
    },
    {
     "name": "stdout",
     "output_type": "stream",
     "text": [
      "numLines:  7\n",
      "numLines:  8\n",
      "numLines:  9\n",
      "numLines:  10\n",
      "numLines:  10\n"
     ]
    },
    {
     "name": "stderr",
     "output_type": "stream",
     "text": [
      "\r",
      " 68%|██████▊   | 464/682 [00:20<00:09, 22.30it/s]"
     ]
    },
    {
     "name": "stdout",
     "output_type": "stream",
     "text": [
      "numLines:  10\n",
      "numLines:  11\n",
      "numLines:  8\n",
      "numLines:  9\n",
      "numLines:  8\n"
     ]
    },
    {
     "name": "stderr",
     "output_type": "stream",
     "text": [
      " 69%|██████▉   | 470/682 [00:21<00:09, 22.26it/s]"
     ]
    },
    {
     "name": "stdout",
     "output_type": "stream",
     "text": [
      "numLines:  7\n",
      "numLines:  8\n",
      "numLines:  5\n",
      "numLines:  7\n"
     ]
    },
    {
     "name": "stderr",
     "output_type": "stream",
     "text": [
      "\r",
      " 69%|██████▉   | 473/682 [00:21<00:09, 22.24it/s]"
     ]
    },
    {
     "name": "stdout",
     "output_type": "stream",
     "text": [
      "numLines:  8\n",
      "numLines:  7\n",
      "numLines:  9\n",
      "numLines:  9\n"
     ]
    },
    {
     "name": "stderr",
     "output_type": "stream",
     "text": [
      " 70%|███████   | 479/682 [00:21<00:09, 22.27it/s]"
     ]
    },
    {
     "name": "stdout",
     "output_type": "stream",
     "text": [
      "numLines:  10\n",
      "numLines:  11\n",
      "numLines:  8\n",
      "numLines:  6\n",
      "numLines:  6\n",
      "numLines:  6\n",
      "numLines:  8\n"
     ]
    },
    {
     "name": "stderr",
     "output_type": "stream",
     "text": [
      "\r",
      " 71%|███████   | 483/682 [00:21<00:08, 22.31it/s]"
     ]
    },
    {
     "name": "stdout",
     "output_type": "stream",
     "text": [
      "numLines:  8\n",
      "numLines:  8\n",
      "numLines:  7\n",
      "numLines:  11\n",
      "numLines:  11\n"
     ]
    },
    {
     "name": "stderr",
     "output_type": "stream",
     "text": [
      " 72%|███████▏  | 489/682 [00:21<00:08, 22.30it/s]"
     ]
    },
    {
     "name": "stdout",
     "output_type": "stream",
     "text": [
      "numLines:  12\n",
      "numLines:  9\n",
      "numLines:  11\n",
      "numLines:  9\n",
      "numLines:  7\n"
     ]
    },
    {
     "name": "stderr",
     "output_type": "stream",
     "text": [
      " 73%|███████▎  | 495/682 [00:22<00:08, 22.29it/s]"
     ]
    },
    {
     "name": "stdout",
     "output_type": "stream",
     "text": [
      "numLines:  7\n",
      "numLines:  8\n",
      "numLines:  7\n",
      "numLines:  9\n",
      "numLines:  8\n",
      "numLines:  8\n"
     ]
    },
    {
     "name": "stderr",
     "output_type": "stream",
     "text": [
      " 73%|███████▎  | 501/682 [00:22<00:08, 22.33it/s]"
     ]
    },
    {
     "name": "stdout",
     "output_type": "stream",
     "text": [
      "numLines:  9\n",
      "numLines:  9\n",
      "numLines:  8\n",
      "numLines:  9\n",
      "numLines:  8\n"
     ]
    },
    {
     "name": "stderr",
     "output_type": "stream",
     "text": [
      " 74%|███████▍  | 507/682 [00:22<00:07, 22.36it/s]"
     ]
    },
    {
     "name": "stdout",
     "output_type": "stream",
     "text": [
      "numLines:  8\n",
      "numLines:  8\n",
      "numLines:  6\n",
      "numLines:  7\n",
      "numLines:  8\n",
      "numLines:  7\n"
     ]
    },
    {
     "name": "stderr",
     "output_type": "stream",
     "text": [
      " 75%|███████▌  | 513/682 [00:22<00:07, 22.35it/s]"
     ]
    },
    {
     "name": "stdout",
     "output_type": "stream",
     "text": [
      "numLines:  8\n",
      "numLines:  8\n",
      "numLines:  8\n",
      "numLines:  9\n",
      "numLines:  10\n"
     ]
    },
    {
     "name": "stderr",
     "output_type": "stream",
     "text": [
      "\r",
      " 76%|███████▌  | 516/682 [00:23<00:07, 22.34it/s]"
     ]
    },
    {
     "name": "stdout",
     "output_type": "stream",
     "text": [
      "numLines:  7\n",
      "numLines:  8\n",
      "numLines:  8\n",
      "numLines:  9\n",
      "numLines:  8\n"
     ]
    },
    {
     "name": "stderr",
     "output_type": "stream",
     "text": [
      " 77%|███████▋  | 523/682 [00:23<00:07, 22.39it/s]"
     ]
    },
    {
     "name": "stdout",
     "output_type": "stream",
     "text": [
      "numLines:  9\n",
      "numLines:  10\n",
      "numLines:  9\n",
      "numLines:  10\n",
      "numLines:  11\n",
      "numLines:  9\n"
     ]
    },
    {
     "name": "stderr",
     "output_type": "stream",
     "text": [
      " 78%|███████▊  | 529/682 [00:23<00:06, 22.39it/s]"
     ]
    },
    {
     "name": "stdout",
     "output_type": "stream",
     "text": [
      "numLines:  10\n",
      "numLines:  8\n",
      "numLines:  9\n",
      "numLines:  7\n",
      "numLines:  7\n"
     ]
    },
    {
     "name": "stderr",
     "output_type": "stream",
     "text": [
      " 78%|███████▊  | 535/682 [00:23<00:06, 22.43it/s]"
     ]
    },
    {
     "name": "stdout",
     "output_type": "stream",
     "text": [
      "numLines:  8\n",
      "numLines:  10\n",
      "numLines:  10\n",
      "numLines:  9\n",
      "numLines:  7\n",
      "numLines:  9\n"
     ]
    },
    {
     "name": "stderr",
     "output_type": "stream",
     "text": [
      "\r",
      " 79%|███████▉  | 538/682 [00:24<00:06, 22.39it/s]"
     ]
    },
    {
     "name": "stdout",
     "output_type": "stream",
     "text": [
      "numLines:  10\n",
      "numLines:  12\n",
      "numLines:  11\n",
      "numLines:  9\n"
     ]
    },
    {
     "name": "stderr",
     "output_type": "stream",
     "text": [
      "\r",
      " 79%|███████▉  | 541/682 [00:24<00:06, 22.39it/s]"
     ]
    },
    {
     "name": "stdout",
     "output_type": "stream",
     "text": [
      "numLines:  9\n",
      "numLines:  9\n",
      "numLines:  8\n",
      "numLines:  7\n"
     ]
    },
    {
     "name": "stderr",
     "output_type": "stream",
     "text": [
      " 80%|████████  | 547/682 [00:24<00:06, 22.38it/s]"
     ]
    },
    {
     "name": "stdout",
     "output_type": "stream",
     "text": [
      "numLines:  9\n",
      "numLines:  8\n",
      "numLines:  7\n",
      "numLines:  8\n",
      "numLines:  9\n"
     ]
    },
    {
     "name": "stderr",
     "output_type": "stream",
     "text": [
      " 81%|████████  | 554/682 [00:24<00:05, 22.45it/s]"
     ]
    },
    {
     "name": "stdout",
     "output_type": "stream",
     "text": [
      "numLines:  11\n",
      "numLines:  10\n",
      "numLines:  8\n",
      "numLines:  8\n",
      "numLines:  7\n",
      "numLines:  6\n"
     ]
    },
    {
     "name": "stderr",
     "output_type": "stream",
     "text": [
      "\r",
      " 82%|████████▏ | 557/682 [00:24<00:05, 22.46it/s]"
     ]
    },
    {
     "name": "stdout",
     "output_type": "stream",
     "text": [
      "numLines:  9\n",
      "numLines:  7\n",
      "numLines:  8\n",
      "numLines:  8\n",
      "numLines:  7\n",
      "numLines:  8\n"
     ]
    },
    {
     "name": "stderr",
     "output_type": "stream",
     "text": [
      " 83%|████████▎ | 564/682 [00:25<00:05, 22.48it/s]"
     ]
    },
    {
     "name": "stdout",
     "output_type": "stream",
     "text": [
      "numLines:  10\n",
      "numLines:  8\n",
      "numLines:  12\n",
      "numLines:  10\n",
      "numLines:  9\n"
     ]
    },
    {
     "name": "stderr",
     "output_type": "stream",
     "text": [
      " 84%|████████▎ | 570/682 [00:25<00:04, 22.48it/s]"
     ]
    },
    {
     "name": "stdout",
     "output_type": "stream",
     "text": [
      "numLines:  8\n",
      "numLines:  9\n",
      "numLines:  9\n",
      "numLines:  8\n",
      "numLines:  11\n"
     ]
    },
    {
     "name": "stderr",
     "output_type": "stream",
     "text": [
      "\r",
      " 84%|████████▍ | 573/682 [00:25<00:04, 22.49it/s]"
     ]
    },
    {
     "name": "stdout",
     "output_type": "stream",
     "text": [
      "numLines:  8\n",
      "numLines:  9\n",
      "numLines:  12\n",
      "numLines:  10\n",
      "numLines:  8\n"
     ]
    },
    {
     "name": "stderr",
     "output_type": "stream",
     "text": [
      " 85%|████████▍ | 579/682 [00:25<00:04, 22.49it/s]"
     ]
    },
    {
     "name": "stdout",
     "output_type": "stream",
     "text": [
      "numLines:  9\n",
      "numLines:  7\n",
      "numLines:  7\n",
      "numLines:  8\n",
      "numLines:  11\n",
      "numLines:  9\n"
     ]
    },
    {
     "name": "stderr",
     "output_type": "stream",
     "text": [
      " 86%|████████▌ | 585/682 [00:26<00:04, 22.48it/s]"
     ]
    },
    {
     "name": "stdout",
     "output_type": "stream",
     "text": [
      "numLines:  9\n",
      "numLines:  9\n",
      "numLines:  7\n",
      "numLines:  8\n"
     ]
    },
    {
     "name": "stderr",
     "output_type": "stream",
     "text": [
      " 87%|████████▋ | 591/682 [00:26<00:04, 22.51it/s]"
     ]
    },
    {
     "name": "stdout",
     "output_type": "stream",
     "text": [
      "numLines:  7\n",
      "numLines:  10\n",
      "numLines:  9\n",
      "numLines:  8\n",
      "numLines:  8\n",
      "numLines:  9\n"
     ]
    },
    {
     "name": "stderr",
     "output_type": "stream",
     "text": [
      "\r",
      " 87%|████████▋ | 594/682 [00:26<00:03, 22.52it/s]"
     ]
    },
    {
     "name": "stdout",
     "output_type": "stream",
     "text": [
      "numLines:  7\n",
      "numLines:  6\n",
      "numLines:  10\n",
      "numLines:  7\n",
      "numLines:  8\n"
     ]
    },
    {
     "name": "stderr",
     "output_type": "stream",
     "text": [
      " 88%|████████▊ | 601/682 [00:26<00:03, 22.54it/s]"
     ]
    },
    {
     "name": "stdout",
     "output_type": "stream",
     "text": [
      "numLines:  10\n",
      "numLines:  9\n",
      "numLines:  8\n",
      "numLines:  11\n",
      "numLines:  11\n",
      "numLines:  7\n",
      "numLines:  10\n"
     ]
    },
    {
     "name": "stderr",
     "output_type": "stream",
     "text": [
      " 89%|████████▉ | 607/682 [00:26<00:03, 22.51it/s]"
     ]
    },
    {
     "name": "stdout",
     "output_type": "stream",
     "text": [
      "numLines:  7\n",
      "numLines:  9\n",
      "numLines:  7\n",
      "numLines:  7\n"
     ]
    },
    {
     "name": "stderr",
     "output_type": "stream",
     "text": [
      "\r",
      " 89%|████████▉ | 610/682 [00:27<00:03, 22.49it/s]"
     ]
    },
    {
     "name": "stdout",
     "output_type": "stream",
     "text": [
      "numLines:  8\n",
      "numLines:  8\n",
      "numLines:  9\n",
      "numLines:  9\n",
      "numLines:  7\n"
     ]
    },
    {
     "name": "stderr",
     "output_type": "stream",
     "text": [
      " 90%|█████████ | 616/682 [00:27<00:02, 22.53it/s]"
     ]
    },
    {
     "name": "stdout",
     "output_type": "stream",
     "text": [
      "numLines:  8\n",
      "numLines:  9\n",
      "numLines:  7\n",
      "numLines:  8\n",
      "numLines:  8\n"
     ]
    },
    {
     "name": "stderr",
     "output_type": "stream",
     "text": [
      " 91%|█████████ | 622/682 [00:27<00:02, 22.54it/s]"
     ]
    },
    {
     "name": "stdout",
     "output_type": "stream",
     "text": [
      "numLines:  9\n",
      "numLines:  9\n",
      "numLines:  7\n",
      "numLines:  10\n",
      "numLines:  9\n"
     ]
    },
    {
     "name": "stderr",
     "output_type": "stream",
     "text": [
      "\r",
      " 92%|█████████▏| 625/682 [00:27<00:02, 22.53it/s]"
     ]
    },
    {
     "name": "stdout",
     "output_type": "stream",
     "text": [
      "numLines:  9\n",
      "numLines:  8\n",
      "numLines:  9\n",
      "numLines:  8\n",
      "numLines:  7\n",
      "numLines:  8\n"
     ]
    },
    {
     "name": "stderr",
     "output_type": "stream",
     "text": [
      " 93%|█████████▎| 631/682 [00:28<00:02, 22.53it/s]"
     ]
    },
    {
     "name": "stdout",
     "output_type": "stream",
     "text": [
      "numLines:  9\n",
      "numLines:  8\n",
      "numLines:  8\n",
      "numLines:  7\n",
      "numLines:  7\n",
      "numLines:  8\n"
     ]
    },
    {
     "name": "stderr",
     "output_type": "stream",
     "text": [
      " 94%|█████████▎| 638/682 [00:28<00:01, 22.55it/s]"
     ]
    },
    {
     "name": "stdout",
     "output_type": "stream",
     "text": [
      "numLines:  10\n",
      "numLines:  10\n",
      "numLines:  9\n",
      "numLines:  7\n"
     ]
    },
    {
     "name": "stderr",
     "output_type": "stream",
     "text": [
      "\r",
      " 94%|█████████▍| 641/682 [00:28<00:01, 22.56it/s]"
     ]
    },
    {
     "name": "stdout",
     "output_type": "stream",
     "text": [
      "numLines:  8\n",
      "numLines:  8\n",
      "numLines:  7\n",
      "numLines:  9\n",
      "numLines:  9\n",
      "numLines:  7\n"
     ]
    },
    {
     "name": "stderr",
     "output_type": "stream",
     "text": [
      " 95%|█████████▍| 647/682 [00:28<00:01, 22.56it/s]"
     ]
    },
    {
     "name": "stdout",
     "output_type": "stream",
     "text": [
      "numLines:  8\n",
      "numLines:  8\n",
      "numLines:  10\n",
      "numLines:  9\n",
      "numLines:  10\n"
     ]
    },
    {
     "name": "stderr",
     "output_type": "stream",
     "text": [
      " 96%|█████████▌| 653/682 [00:28<00:01, 22.55it/s]"
     ]
    },
    {
     "name": "stdout",
     "output_type": "stream",
     "text": [
      "numLines:  9\n",
      "numLines:  7\n",
      "numLines:  7\n",
      "numLines:  8\n",
      "numLines:  7\n"
     ]
    },
    {
     "name": "stderr",
     "output_type": "stream",
     "text": [
      "\r",
      " 96%|█████████▌| 656/682 [00:29<00:01, 22.58it/s]"
     ]
    },
    {
     "name": "stdout",
     "output_type": "stream",
     "text": [
      "numLines:  9\n",
      "numLines:  9\n",
      "numLines:  8\n",
      "numLines:  7\n",
      "numLines:  10\n"
     ]
    },
    {
     "name": "stderr",
     "output_type": "stream",
     "text": [
      " 97%|█████████▋| 662/682 [00:29<00:00, 22.58it/s]"
     ]
    },
    {
     "name": "stdout",
     "output_type": "stream",
     "text": [
      "numLines:  10\n",
      "numLines:  9\n",
      "numLines:  12\n",
      "numLines:  8\n",
      "numLines:  9\n",
      "numLines:  6\n",
      "numLines:  6\n"
     ]
    },
    {
     "name": "stderr",
     "output_type": "stream",
     "text": [
      " 98%|█████████▊| 669/682 [00:29<00:00, 22.57it/s]"
     ]
    },
    {
     "name": "stdout",
     "output_type": "stream",
     "text": [
      "numLines:  8\n",
      "numLines:  7\n",
      "numLines:  7\n",
      "numLines:  9\n",
      "numLines:  9\n"
     ]
    },
    {
     "name": "stderr",
     "output_type": "stream",
     "text": [
      " 99%|█████████▉| 676/682 [00:29<00:00, 22.61it/s]"
     ]
    },
    {
     "name": "stdout",
     "output_type": "stream",
     "text": [
      "numLines:  10\n",
      "numLines:  9\n",
      "numLines:  9\n",
      "numLines:  8\n",
      "numLines:  11\n",
      "numLines:  8\n",
      "numLines:  8\n"
     ]
    },
    {
     "name": "stderr",
     "output_type": "stream",
     "text": [
      "100%|█████████▉| 681/682 [00:30<00:00, 22.61it/s]"
     ]
    },
    {
     "name": "stdout",
     "output_type": "stream",
     "text": [
      "numLines:  7\n",
      "numLines:  7\n",
      "numLines:  8\n"
     ]
    },
    {
     "name": "stderr",
     "output_type": "stream",
     "text": [
      "\n"
     ]
    },
    {
     "name": "stdout",
     "output_type": "stream",
     "text": [
      "[MoviePy] Done.\n",
      "[MoviePy] >>>> Video ready: test_videos_output/solidYellowLeft_2018-08-15T19:27:27.mp4 \n",
      "\n"
     ]
    }
   ],
   "source": [
    "from moviepy.editor import VideoFileClip\n",
    "from IPython.display import HTML\n",
    "import datetime\n",
    "\n",
    "def ProcessVideo():\n",
    "    fileNameBase = \"solidWhiteRight\"\n",
    "    fileNameBase = \"solidYellowLeft\"\n",
    "    #fileNameBase = \"challenge\"\n",
    "    fileExt = \".mp4\"\n",
    "    folderInput = \"test_videos/\"\n",
    "    folderOutput = \"test_videos_output/\"\n",
    "\n",
    "    dt = datetime.datetime.now()\n",
    "    strDT = \"_{:%Y-%m-%dT%H:%M:%S}\".format(dt)\n",
    "\n",
    "    fileNameIn  = folderInput + fileNameBase + fileExt\n",
    "    fileNameOut = folderOutput + fileNameBase + strDT + fileExt\n",
    "\n",
    "    #clip1 = VideoFileClip(fileNameIn).subclip(0,3)\n",
    "    clip1 = VideoFileClip(fileNameIn)\n",
    "    white_clip = clip1.fl_image(ProcessImage) #NOTE: this function expects color images!!\n",
    "    white_clip.write_videofile(fileNameOut, audio=False)\n",
    "    \n",
    "ProcessVideo()"
   ]
  },
  {
   "cell_type": "code",
   "execution_count": null,
   "metadata": {},
   "outputs": [],
   "source": []
  }
 ],
 "metadata": {
  "anaconda-cloud": {},
  "kernelspec": {
   "display_name": "Python 2",
   "language": "python",
   "name": "python2"
  },
  "language_info": {
   "codemirror_mode": {
    "name": "ipython",
    "version": 3
   },
   "file_extension": ".py",
   "mimetype": "text/x-python",
   "name": "python",
   "nbconvert_exporter": "python",
   "pygments_lexer": "ipython3",
   "version": "3.5.2"
  },
  "widgets": {
   "state": {},
   "version": "1.1.2"
  }
 },
 "nbformat": 4,
 "nbformat_minor": 1
}
