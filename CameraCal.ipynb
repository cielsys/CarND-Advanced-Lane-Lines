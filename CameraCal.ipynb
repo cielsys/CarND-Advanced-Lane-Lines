{
 "cells": [
  {
   "cell_type": "markdown",
   "metadata": {},
   "source": [
    "Camera Calibration with OpenCV\n",
    "===\n",
    "Performs camera distortion calibration and perspective warp transform calculations.\n",
    "Run All Cells should work.  The  Main distortion cell invokes the calibration and runs undistort on the cal input files and displays and saves them to file.\n"
   ]
  },
  {
   "cell_type": "code",
   "execution_count": 1,
   "metadata": {},
   "outputs": [],
   "source": [
    "import matplotlib.pyplot as plt\n",
    "import matplotlib.image as mpimg\n",
    "import numpy as np\n",
    "import cv2\n",
    "import glob\n",
    "import os\n",
    "import pickle"
   ]
  },
  {
   "cell_type": "code",
   "execution_count": 2,
   "metadata": {},
   "outputs": [
    {
     "data": {
      "text/html": [
       "<style> code {background-color : orange !important;} </style>\n",
       "from IPython.core.display import display, HTML\n",
       "display(HTML(\"<style>.container { width:100% !important; }</style>\"))"
      ],
      "text/plain": [
       "<IPython.core.display.HTML object>"
      ]
     },
     "metadata": {},
     "output_type": "display_data"
    }
   ],
   "source": [
    "%%HTML\n",
    "<style> code {background-color : orange !important;} </style>\n",
    "from IPython.core.display import display, HTML\n",
    "display(HTML(\"<style>.container { width:100% !important; }</style>\"))"
   ]
  },
  {
   "cell_type": "code",
   "execution_count": 3,
   "metadata": {},
   "outputs": [],
   "source": [
    "# For debug only. These are default to false at start of module\n",
    "g_doDrawCorners=True # This is used in cal calculation: Overlays the calImage with the found corners\n",
    "g_doCreateBothImage = True # Creates composite of input and output images in CameraCal_Undistort()\n",
    "\n",
    "g_CameraDistortionCalValsFileName = \"CameraDistortionCalVals.pypickle\"\n",
    "g_CameraPerspectiveWarpMatrixFileName = \"CameraPerspectiveWarpMatrix.pypickle\"\n"
   ]
  },
  {
   "cell_type": "code",
   "execution_count": 4,
   "metadata": {},
   "outputs": [],
   "source": [
    "def OpenImages(imgFileNames):\n",
    "    imgList = []\n",
    "    for imgFileName in imgFileNames:\n",
    "        img = mpimg.imread(imgFileName)\n",
    "        imgList.append(img)\n",
    "    return(imgList)\n",
    "\n",
    "def SaveImages(imgFileNames, images):\n",
    "    for imgFileName, img in zip(imgFileNames, images):\n",
    "        mpimg.imsave(imgFileName, img, format='jpg')"
   ]
  },
  {
   "cell_type": "code",
   "execution_count": 5,
   "metadata": {},
   "outputs": [],
   "source": [
    "def DrawText(img, text, posLL = (10,40)):\n",
    "    font                   = cv2.FONT_HERSHEY_PLAIN    \n",
    "    fontScale              = 2\n",
    "    fontColor              = (255, 0, 0) # cv.BGR Blue but saved np.RGB red\n",
    "    lineType               = 2\n",
    "    cv2.putText(img, text, posLL, font, fontScale, fontColor, lineType)\n",
    " "
   ]
  },
  {
   "cell_type": "code",
   "execution_count": 6,
   "metadata": {},
   "outputs": [],
   "source": [
    "def AnimateImages(imgList, pauseMs=1000):\n",
    "    for index, imgIn in enumerate(imgList):\n",
    "        windowName = \"img\" # 'img'+str(index), imgIn) # Use same window name to reuse same window. Different names for different windows\n",
    "        cv2.imshow(windowName, imgIn)\n",
    "        cv2.waitKey(pauseMs)\n",
    "\n",
    "    cv2.destroyAllWindows()"
   ]
  },
  {
   "cell_type": "code",
   "execution_count": 7,
   "metadata": {},
   "outputs": [],
   "source": [
    "def CameraCal_FindCorners(calImages, numCornersXY):\n",
    "    \"\"\"\n",
    "    Calculates the chessboard trueCorners and foundCorners of a list of chessboard cal images.\n",
    "    \"\"\"\n",
    "    \n",
    "    # prepare object points, like (0,0,0), (1,0,0), (2,0,0) ....,(6,5,0)\n",
    "    numCornersTotal = numCornersXY[0] * numCornersXY[1]\n",
    "    trueCornerPointsSingle = np.zeros((numCornersTotal, 3), np.float32)\n",
    "    trueCornerPointsSingle[:,:2] = np.mgrid[0:numCornersXY[0], 0:numCornersXY[1]].T.reshape(-1,2)\n",
    "\n",
    "    # Arrays to store object points and image points from all the images.\n",
    "    trueCornerPoints = [] # 3d points in real world space\n",
    "    foundCornerPoints = [] # 2d points in image plane.\n",
    "\n",
    "    cornersFoundStatus = []\n",
    "\n",
    "    # Step through the list and search for chessboard corners\n",
    "    for index, imgCalIn in enumerate(calImages):\n",
    "        imgGray = cv2.cvtColor(imgCalIn, cv2.COLOR_RGB2GRAY)\n",
    "\n",
    "        # Find the chessboard corners\n",
    "        cornersFound, curImgCornerPoints = cv2.findChessboardCorners(imgGray, numCornersXY, None)\n",
    "        cornersFoundStatus.append(cornersFound)\n",
    "        \n",
    "        print(\"calImageIndex={} cornersFound={}\".format(index+1, cornersFound))\n",
    "        # If found, append the true and found corners to retval lists\n",
    "        if cornersFound == True:\n",
    "            trueCornerPoints.append(trueCornerPointsSingle)\n",
    "            foundCornerPoints.append(curImgCornerPoints)\n",
    "            \n",
    "            # For dev/debug draw the corners on the input image\n",
    "            if (g_doDrawCorners):\n",
    "                cv2.drawChessboardCorners(imgCalIn, numCornersXY, curImgCornerPoints, True) \n",
    "\n",
    "        # For dev/debug draw failure notice input image        \n",
    "        elif (g_doDrawCorners):\n",
    "            DrawText(imgCalIn, 'CornersNotFound!')            \n",
    "        \n",
    "    return(cornersFoundStatus, trueCornerPoints, foundCornerPoints)"
   ]
  },
  {
   "cell_type": "code",
   "execution_count": 8,
   "metadata": {},
   "outputs": [],
   "source": [
    "def CameraCal_CalcCalValsFromPoints(trueCornerPoints, foundCornerPoints, imgSample):\n",
    "    \"\"\"\n",
    "    Do camera calibration given object points and image points\n",
    "    \"\"\"\n",
    "    \n",
    "    imgSize = (imgSample.shape[1], imgSample.shape[0])\n",
    "    ret, mtx, dist, rvecs, tvecs = cv2.calibrateCamera(trueCornerPoints, foundCornerPoints, imgSize, None, None)\n",
    "    dictCameraCalVals = {}\n",
    "    dictCameraCalVals[\"mtx\"] = mtx\n",
    "    dictCameraCalVals[\"dist\"] = dist\n",
    "    dictCameraCalVals[\"rvecs\"] = rvecs\n",
    "    dictCameraCalVals[\"tvecs\"] = tvecs\n",
    "    return(dictCameraCalVals)\n",
    "\n",
    "def CameraCal_CalcCalValsFromImages(calImages, numCornersXY):\n",
    "    \"\"\"\n",
    "    Do camera calibration given a list of numpy checkerboard images\n",
    "    \"\"\"\n",
    "    \n",
    "    cornersFoundStatus, trueCornerPoints, foundCornerPoints = CameraCal_FindCorners(calImages, numCornersXY)\n",
    "    dictCameraCalVals = CameraCal_CalcCalValsFromPoints(trueCornerPoints, foundCornerPoints, calImages[0])\n",
    "    return(dictCameraCalVals)\n",
    " \n",
    "def CameraCal_SaveCalFile(calFileName, dictCameraCalVals):\n",
    "    pickle.dump(dictCameraCalVals, open(calFileName, \"wb\" ) )\n",
    "\n",
    "def CameraCal_LoadCalFile(calFileName):\n",
    "    dictCameraCalVals = pickle.load( open(calFileName, \"rb\" ) )\n",
    "    return(dictCameraCalVals)\n",
    "    "
   ]
  },
  {
   "cell_type": "code",
   "execution_count": 9,
   "metadata": {},
   "outputs": [],
   "source": [
    "def CameraCal_Undistort(dictCameraCalVals, imgIn):\n",
    "    \"\"\"\n",
    "    Perform image undistortion on a numpy image\n",
    "    \"\"\"\n",
    "    imgOut = cv2.undistort(imgIn, dictCameraCalVals[\"mtx\"], dictCameraCalVals[\"dist\"], None, dictCameraCalVals[\"mtx\"])\n",
    "    return(imgOut)\n",
    "\n",
    "def CameraCal_UndistortList(dictCameraCalVals, imagesIn):\n",
    "    \"\"\"\n",
    "    Perform image undistortion on a list of numpy images\n",
    "    \"\"\"\n",
    "    imagesOut = []\n",
    "    imagesBothOut = []\n",
    "    for index, imgIn in enumerate(imagesIn):\n",
    "        imgOut = CameraCal_Undistort(dictCameraCalVals, imgIn)\n",
    "        imagesOut.append(imgOut)        \n",
    "        if (g_doCreateBothImage):\n",
    "            imgBoth = np.concatenate((imgIn, imgOut), axis=1)\n",
    "            imagesBothOut.append(imgBoth)        \n",
    "    return(imagesBothOut, imagesOut)"
   ]
  },
  {
   "cell_type": "markdown",
   "metadata": {},
   "source": [
    "## Main routine for distortion calibration\n",
    "### Creates a camera distortion cal object from a list of checkerboard cal files and saves the cal object to disk\n",
    "Or optionally loads the cal object from disk.\n",
    "Then applies the cal object to test images and displays (and optionally saves) the resulting images"
   ]
  },
  {
   "cell_type": "code",
   "execution_count": 10,
   "metadata": {},
   "outputs": [
    {
     "name": "stdout",
     "output_type": "stream",
     "text": [
      "UNCOMMENT INVOCATION!!!\n",
      "calImageIndex=1 cornersFound=False\n",
      "calImageIndex=2 cornersFound=True\n",
      "calImageIndex=3 cornersFound=True\n",
      "calImageIndex=4 cornersFound=False\n",
      "calImageIndex=5 cornersFound=False\n",
      "calImageIndex=6 cornersFound=True\n",
      "calImageIndex=7 cornersFound=True\n",
      "calImageIndex=8 cornersFound=True\n",
      "calImageIndex=9 cornersFound=True\n",
      "calImageIndex=10 cornersFound=True\n",
      "calImageIndex=11 cornersFound=True\n",
      "calImageIndex=12 cornersFound=True\n",
      "calImageIndex=13 cornersFound=True\n",
      "calImageIndex=14 cornersFound=True\n",
      "calImageIndex=15 cornersFound=True\n",
      "calImageIndex=16 cornersFound=True\n",
      "calImageIndex=17 cornersFound=True\n",
      "calImageIndex=18 cornersFound=True\n",
      "calImageIndex=19 cornersFound=True\n",
      "calImageIndex=20 cornersFound=True\n"
     ]
    }
   ],
   "source": [
    "def DistortionCalMain():\n",
    "    numCornersXY = (9,6)\n",
    "    calFileInNames = glob.glob('camera_cal/cal*.jpg')\n",
    "    #calFileInNames = ['camera_cal/calibration2.jpg']\n",
    "    outputDir = \"camera_caloutput/\"\n",
    "\n",
    "    # Get natural sort of files... only works for this exact environment and is useful only for dev debug\n",
    "    doSort=True\n",
    "    if (doSort):\n",
    "        baseLen = len(\"camera_cal/calibration\")\n",
    "        calFileInNames = sorted(calFileInNames, key=lambda fileName: int(fileName[baseLen:-4]))\n",
    "    else:\n",
    "        calFileInNames\n",
    "\n",
    "    #print(\"Infiles: \", calFileInNames)\n",
    "    calImages = OpenImages(calFileInNames)\n",
    "\n",
    "    if (not os.path.exists(outputDir)):\n",
    "        os.makedirs(g_outputDir)\n",
    "        \n",
    "    useCalFile = False\n",
    "    if (useCalFile):\n",
    "        dictCameraCalVals = CameraCal_LoadCalFile(g_CameraDistortionCalValsFileName)\n",
    "    else:\n",
    "        dictCameraCalVals = CameraCal_CalcCalValsFromImages(calImages, numCornersXY)\n",
    "        CameraCal_SaveCalFile(g_CameraDistortionCalValsFileName, dictCameraCalVals)\n",
    "        #AnimateImages(g_calImages, 2000)\n",
    "\n",
    "    # Run undistort test on the same images used for calibration\n",
    "    testImagesIn = calImages\n",
    "    testImagesBothOut, testImagesOut = CameraCal_UndistortList(dictCameraCalVals, testImagesIn)  \n",
    "\n",
    "    # Animate the combined test output to see side by side comparison\n",
    "    AnimateImages(testImagesBothOut, 500)\n",
    "\n",
    "    saveOutFiles = True\n",
    "    if (saveOutFiles):\n",
    "        outputFileNames = [(outputDir + os.path.splitext(os.path.basename(fileName))[0] + \".out.jpg\") for fileName in calFileInNames]\n",
    "        #print(\"Outfiles: \", g_outputFileNames)\n",
    "        SaveImages(outputFileNames, testImagesBothOut)\n",
    "\n",
    "        \n",
    "print(\"UNCOMMENT INVOCATION!!!\")\n",
    "DistortionCalMain()"
   ]
  },
  {
   "cell_type": "markdown",
   "metadata": {},
   "source": [
    "## Sample invocation  of Undistort for use in image proc pipeline"
   ]
  },
  {
   "cell_type": "code",
   "execution_count": 11,
   "metadata": {},
   "outputs": [
    {
     "ename": "NameError",
     "evalue": "name 'g_calFileName' is not defined",
     "output_type": "error",
     "traceback": [
      "\u001b[0;31m---------------------------------------------------------------------------\u001b[0m",
      "\u001b[0;31mNameError\u001b[0m                                 Traceback (most recent call last)",
      "\u001b[0;32m<ipython-input-11-154f6f339a3f>\u001b[0m in \u001b[0;36m<module>\u001b[0;34m()\u001b[0m\n\u001b[1;32m     13\u001b[0m     \u001b[0max2\u001b[0m\u001b[0;34m.\u001b[0m\u001b[0mset_title\u001b[0m\u001b[0;34m(\u001b[0m\u001b[0;34m'Undistorted Image'\u001b[0m\u001b[0;34m,\u001b[0m \u001b[0mfontsize\u001b[0m\u001b[0;34m=\u001b[0m\u001b[0;36m30\u001b[0m\u001b[0;34m)\u001b[0m\u001b[0;34m\u001b[0m\u001b[0m\n\u001b[1;32m     14\u001b[0m \u001b[0;34m\u001b[0m\u001b[0m\n\u001b[0;32m---> 15\u001b[0;31m \u001b[0mSampleInvocationUndistort\u001b[0m\u001b[0;34m(\u001b[0m\u001b[0;34m)\u001b[0m\u001b[0;34m\u001b[0m\u001b[0m\n\u001b[0m",
      "\u001b[0;32m<ipython-input-11-154f6f339a3f>\u001b[0m in \u001b[0;36mSampleInvocationUndistort\u001b[0;34m()\u001b[0m\n\u001b[1;32m      3\u001b[0m     \u001b[0mimgIn\u001b[0m \u001b[0;34m=\u001b[0m \u001b[0mmpimg\u001b[0m\u001b[0;34m.\u001b[0m\u001b[0mimread\u001b[0m\u001b[0;34m(\u001b[0m\u001b[0mimgFileName\u001b[0m\u001b[0;34m)\u001b[0m\u001b[0;34m\u001b[0m\u001b[0m\n\u001b[1;32m      4\u001b[0m \u001b[0;34m\u001b[0m\u001b[0m\n\u001b[0;32m----> 5\u001b[0;31m     \u001b[0mdictCameraCalVals\u001b[0m \u001b[0;34m=\u001b[0m \u001b[0mCameraCal_LoadCalFile\u001b[0m\u001b[0;34m(\u001b[0m\u001b[0mg_calFileName\u001b[0m\u001b[0;34m)\u001b[0m\u001b[0;34m\u001b[0m\u001b[0m\n\u001b[0m\u001b[1;32m      6\u001b[0m     \u001b[0mimgUndistorted\u001b[0m \u001b[0;34m=\u001b[0m \u001b[0mCameraCal_Undistort\u001b[0m\u001b[0;34m(\u001b[0m\u001b[0mdictCameraCalVals\u001b[0m\u001b[0;34m,\u001b[0m \u001b[0mimgIn\u001b[0m\u001b[0;34m)\u001b[0m\u001b[0;34m\u001b[0m\u001b[0m\n\u001b[1;32m      7\u001b[0m \u001b[0;34m\u001b[0m\u001b[0m\n",
      "\u001b[0;31mNameError\u001b[0m: name 'g_calFileName' is not defined"
     ]
    }
   ],
   "source": [
    "def SampleInvocationUndistort():\n",
    "    imgFileName = 'camera_cal/calibration2.jpg'\n",
    "    imgIn = mpimg.imread(imgFileName)\n",
    "\n",
    "    dictCameraCalVals = CameraCal_LoadCalFile(g_calFileName)\n",
    "    imgUndistorted = CameraCal_Undistort(dictCameraCalVals, imgIn)\n",
    "    \n",
    "    %matplotlib inline  \n",
    "    f, (ax1, ax2) = plt.subplots(1, 2, figsize=(20,10))\n",
    "    ax1.imshow(imgIn)\n",
    "    ax1.set_title('Original Image', fontsize=30)\n",
    "    ax2.imshow(imgUndistorted)\n",
    "    ax2.set_title('Undistorted Image', fontsize=30)\n",
    "    \n",
    "SampleInvocationUndistort()"
   ]
  },
  {
   "cell_type": "markdown",
   "metadata": {},
   "source": [
    "## Perspective Warp Calibration section"
   ]
  },
  {
   "cell_type": "code",
   "execution_count": null,
   "metadata": {},
   "outputs": [],
   "source": [
    "def GetPerspectiveWarpTrapezoids():\n",
    "    \"\"\"\n",
    "    Returns the src and dest trapezoids used by GetPerspectiveWarpTransform/cv2.getPerspectiveTransform\n",
    "    \"\"\"\n",
    "    # Define the location of points of the trapezoid\n",
    "    # as seen in the POV image. These are determined empirically\n",
    "    # by manually selecting the pixel points in the calibration image\n",
    "    # in EmpiricalWarpTrapazoidTool()\n",
    "    \n",
    "    # 4 [X,Y] coords from the TopLeft CounterClockWise: LeftTop LeftBottom, RightBottom, RightTop\n",
    "    srcTrap = np.float32([\n",
    "                     [580, 460], # LT\n",
    "                     [213, 718], # LB\n",
    "                     [1103, 718],# RB\n",
    "                     [705, 460]])# RT\n",
    " \n",
    "    # Temp vals for readability    \n",
    "    (srcLT, srcLB, srcRB, srcRT)  = srcTrap\n",
    "\n",
    "    # Define the location to where each those points will map to\n",
    "    # in the destination image. Move the bottoms in, and the tops out, \n",
    "    destL= (srcLT[0] + srcLB[0])/2 - 100\n",
    "    destR= (srcRT[0] + srcRB[0])/2 + 100\n",
    "    destT= 0\n",
    "    destB= 715\n",
    "\n",
    "    # Define the points of the destination image to which the src trapezoid point should map to\n",
    "    destRect = np.float32([\n",
    "                     [destL, destT],  # LT\n",
    "                     [destL, destB],  # LB\n",
    "                     [destR, destB],  # RB\n",
    "                     [destR, destT],])# RT\n",
    "\n",
    "    #print(\"Dest L={} R={} T={} B={}\".format(destL, destR, destT, destB))\n",
    "    #print(\"dstRect\",destRect)\n",
    "    return(srcTrap, destRect)\n",
    "\n",
    "\n",
    "def GetPerspectiveWarpTransform():\n",
    "    \"\"\" \n",
    "    Calculation of perspective warp transform matrix\n",
    "    Retrieves the srcTrapezoid and destRectangles that have been empirically tuned\n",
    "    Returns a transform matrix to be called by cv2.warpPerspective\n",
    "    \"\"\"\n",
    "    (srcTrap, destRect) = GetPerspectiveWarpTrapezoids()\n",
    "    matrix = cv2.getPerspectiveTransform(srcTrap, destRect)\n",
    "    return matrix\n",
    "\n",
    "#INTER_NEAREST - a nearest-neighbor interpolation\n",
    "#INTER_LINEAR - a bilinear interpolation (used by default)\n",
    "#INTER_AREA - resampling using pixel area relation. It may be a preferred method for image decimation, as it gives moire’-free results. But when the image is zoomed, it is similar to the INTER_NEAREST method.\n",
    "#INTER_CUBIC - a bicubic interpolation over 4x4 pixel neighborhood\n",
    "#INTER_LANCZOS4 - a Lanczos interpolation over 8x8 pixel neighborhood\n",
    "\n",
    "def DoPerspectiveTransform(imgIn, matTransform):\n",
    "    img_size = (imgIn.shape[1], imgIn.shape[0])\n",
    "    interpolation = cv2.INTER_CUBIC\n",
    "    imgWarped = cv2.warpPerspective(imgIn, matTransform, img_size, flags=interpolation)\n",
    "    return imgWarped\n"
   ]
  },
  {
   "cell_type": "code",
   "execution_count": null,
   "metadata": {},
   "outputs": [],
   "source": [
    "def CameraCal_SaveWarpFile(fileName, warpMatrix):\n",
    "    pickle.dump(warpMatrix, open(fileName, \"wb\" ) )\n",
    "\n",
    "def CameraCal_LoadWarpFile(fileName):\n",
    "    warpMatrix = pickle.load( open(fileName, \"rb\" ) )\n",
    "    return(warpMatrix)\n",
    "\n",
    "def CalcAndSaveWarpFile():\n",
    "    matPerspectiveWarp = GetPerspectiveWarpTransform()\n",
    "    CameraCal_SaveWarpFile(g_CameraPerspectiveWarpMatrixFileName, matPerspectiveWarp)\n",
    "    \n",
    "CalcAndSaveWarpFile()"
   ]
  },
  {
   "cell_type": "code",
   "execution_count": null,
   "metadata": {},
   "outputs": [],
   "source": [
    "def SampleInvocationPerspectiveWarp():\n",
    "    imgInFileName = 'test_images/straight_lines2.jpg'\n",
    "    #imgInFileName = 'test_images/straight_lines2.jpg'\n",
    "    imgInFileName = 'camera_caloutput/straight_lines1.warptrap.jpg'\n",
    "    imgInFileName = 'camera_caloutput/straight_lines2.warptrap.jpg'\n",
    "    imgIn = mpimg.imread(imgInFileName)\n",
    "    \n",
    "    dictCameraCalVals = CameraCal_LoadCalFile(g_calFileName)\n",
    "    imgIn = CameraCal_Undistort(dictCameraCalVals, imgIn)\n",
    "\n",
    "    useCalFile = False\n",
    "    if (useCalFile):\n",
    "        matPerspectiveWarp = CameraCal_LoadWarpFile(g_CameraPerspectiveWarpMatrixFileName)\n",
    "    else:\n",
    "        matPerspectiveWarp = GetPerspectiveWarpTransform()\n",
    "        \n",
    "    imgWarped = DoPerspectiveTransform(imgIn, matPerspectiveWarp)\n",
    "    \n",
    "    #%matplotlib qt4\n",
    "    %matplotlib inline\n",
    "    f, (ax1, ax2) = plt.subplots(1, 2, figsize=(20,10))\n",
    "    ax1.imshow(imgIn)\n",
    "    ax1.set_title('imgIn', fontsize=30)\n",
    "    ax2.imshow(imgWarped)\n",
    "    ax2.set_title('imgWarped', fontsize=30)\n",
    "    plt.tight_layout()\n",
    "    \n",
    "    imgOutFileName = 'camera_caloutput/straight_lines1.warped.jpg'\n",
    "    #mpimg.imsave(imgOutFileName, imgWarped, format='jpg')\n",
    "\n",
    "print(\"UNCOMMENT INVOCATION!!!\")\n",
    "SampleInvocationPerspectiveWarp()"
   ]
  },
  {
   "cell_type": "markdown",
   "metadata": {},
   "source": [
    "### Perspective warp tool\n",
    "This is a dev/debug convenience utility to assist finding appropriate points for perspective warping.\n",
    "It is an offline/off pipeline calibration step. Once srcTrapezoidXY_TLCCW[] has been determined this function is not used.\n",
    "It also saves the trapzoid overlay for reference in the writeup"
   ]
  },
  {
   "cell_type": "code",
   "execution_count": null,
   "metadata": {},
   "outputs": [],
   "source": [
    "def EmpiricalWarpTrapazoidTool():\n",
    "    imgIn1FileName = 'test_images/straight_lines1.jpg'\n",
    "    imgIn1 = mpimg.imread(imgIn1FileName)\n",
    "    imgIn2FileName = 'test_images/straight_lines2.jpg'\n",
    "    imgIn2 = mpimg.imread(imgIn2FileName)\n",
    "\n",
    "    # Do distortion correction. Only makes a couple pixels difference in near field\n",
    "    dictCameraCalVals = CameraCal_LoadCalFile(g_calFileName)\n",
    "    imgIn1 = CameraCal_Undistort(dictCameraCalVals, imgIn1)\n",
    "    imgIn2 = CameraCal_Undistort(dictCameraCalVals, imgIn2)\n",
    "\n",
    "    (srcTrap, destRect) = GetPerspectiveWarpTrapezoids()\n",
    " \n",
    "    # Convert points that are acceptable to cv2.polylines()\n",
    "    trapInts = srcTrap.astype(int)\n",
    "    cvPolyPts = trapInts.reshape((-1,1,2)) # I don't understand this, but it's needed. Thank you internet!\n",
    "    \n",
    "    lineThickness = 1\n",
    "    color = (255,0,0)\n",
    "    imgOut1 = cv2.polylines(imgIn1, [cvPolyPts], True, color, lineThickness)            \n",
    "    imgOut2 = cv2.polylines(imgIn2, [cvPolyPts], True, color, lineThickness) \n",
    "    \n",
    "    %matplotlib qt4\n",
    "    #%matplotlib inline\n",
    "    f, (ax1, ax2) = plt.subplots(1, 2, figsize=(20,10))\n",
    "    ax1.imshow(imgOut1)\n",
    "    ax1.set_title(imgIn1FileName, fontsize=20)\n",
    "    ax2.imshow(imgOut2)\n",
    "    ax2.set_title(imgIn2FileName, fontsize=20)\n",
    "    plt.tight_layout()\n",
    "    \n",
    "    imgOut1FileName = 'camera_caloutput/straight_lines1.warptrap.jpg'\n",
    "    imgOut2FileName = 'camera_caloutput/straight_lines2.warptrap.jpg'\n",
    "    mpimg.imsave(imgOut1FileName, imgOut1, format='jpg')\n",
    "    mpimg.imsave(imgOut2FileName, imgOut2, format='jpg')\n",
    "\n",
    "print(\"UNCOMMENT INVOCATION!!!\")\n",
    "#=====> Uncomment next line to run the tool\n",
    "#EmpiricalWarpTrapazoidTool()"
   ]
  },
  {
   "cell_type": "code",
   "execution_count": null,
   "metadata": {},
   "outputs": [],
   "source": []
  }
 ],
 "metadata": {
  "anaconda-cloud": {},
  "kernelspec": {
   "display_name": "Python 3",
   "language": "python",
   "name": "python3"
  },
  "language_info": {
   "codemirror_mode": {
    "name": "ipython",
    "version": 3
   },
   "file_extension": ".py",
   "mimetype": "text/x-python",
   "name": "python",
   "nbconvert_exporter": "python",
   "pygments_lexer": "ipython3",
   "version": "3.5.2"
  },
  "widgets": {
   "state": {},
   "version": "1.1.2"
  }
 },
 "nbformat": 4,
 "nbformat_minor": 1
}
