{
 "cells": [
  {
   "cell_type": "code",
   "execution_count": null,
   "metadata": {},
   "outputs": [],
   "source": [
    "import numpy as np\n",
    "import matplotlib.image as mpimg\n",
    "import matplotlib.pyplot as plt\n",
    "import cv2"
   ]
  },
  {
   "cell_type": "code",
   "execution_count": 4,
   "metadata": {},
   "outputs": [
    {
     "data": {
      "text/html": [
       "<style> code {background-color : orange !important;} </style>\n",
       "from IPython.core.display import display, HTML\n",
       "display(HTML(\"<style>.container { width:100% !important; }</style>\"))"
      ],
      "text/plain": [
       "<IPython.core.display.HTML object>"
      ]
     },
     "metadata": {},
     "output_type": "display_data"
    }
   ],
   "source": [
    "%%HTML\n",
    "<style> code {background-color : orange !important;} </style>\n",
    "from IPython.core.display import display, HTML\n",
    "display(HTML(\"<style>.container { width:100% !important; }</style>\"))"
   ]
  },
  {
   "cell_type": "code",
   "execution_count": 74,
   "metadata": {},
   "outputs": [
    {
     "name": "stdout",
     "output_type": "stream",
     "text": [
      "======================= processing window:  0\n",
      "======================= processing window:  1\n",
      "======================= processing window:  2\n",
      "======================= processing window:  3\n",
      "======================= processing window:  4\n",
      "======================= processing window:  5\n",
      "======================= processing window:  6\n",
      "======================= processing window:  7\n",
      "======================= processing window:  8\n"
     ]
    }
   ],
   "source": [
    "# Load our image\n",
    "binary_warped = mpimg.imread('test_images/warped_example.jpg')\n",
    "\n",
    "def find_lane_pixels(binary_warped):\n",
    "    # Take a histogram of the bottom half of the image\n",
    "    histogram = np.sum(binary_warped[binary_warped.shape[0]//2:,:], axis=0)\n",
    "\n",
    "    # Create an output image to draw on and visualize the result\n",
    "    out_img = np.dstack((binary_warped, binary_warped, binary_warped))\n",
    "\n",
    "    # Find the peak of the left and right halves of the histogram\n",
    "    # These will be the starting point for the left and right lines\n",
    "    midpoint = np.int(histogram.shape[0]//2)\n",
    "    leftx_base = np.argmax(histogram[:midpoint])\n",
    "    rightx_base = np.argmax(histogram[midpoint:]) + midpoint\n",
    "\n",
    "    # HYPERPARAMETERS\n",
    "    # Choose the number of sliding windows\n",
    "    nwindows = 9\n",
    "    # Set the width of the windows +/- margin\n",
    "    margin = 100\n",
    "    # Set minimum number of pixels found to recenter window\n",
    "    minpix = 50\n",
    "\n",
    "    # Set height of windows - based on nwindows above and image shape\n",
    "    window_height = np.int(binary_warped.shape[0]//nwindows)\n",
    "\n",
    "    # Identify the x and y positions of all nonzero pixels in the image\n",
    "    nonzero = binary_warped.nonzero()\n",
    "    nonzeroy = np.array(nonzero[0])\n",
    "    nonzerox = np.array(nonzero[1])\n",
    "\n",
    "    #print(\"nonzeroxy\", nonzero)\n",
    "    #print(\"nonzerox\", nonzerox)\n",
    "    #print(\"nonzeroy\", nonzeroy)\n",
    "    # Current positions to be updated later for each window in nwindows\n",
    "    leftx_current = leftx_base\n",
    "    rightx_current = rightx_base\n",
    "\n",
    "    # Create empty lists to receive left and right lane pixel indices\n",
    "    left_lane_inds = []\n",
    "    right_lane_inds = []\n",
    "\n",
    "    # Step through the windows one by one\n",
    "    for window in range(nwindows):\n",
    "        print(\"======================= processing window: \", window)\n",
    "        # Identify window boundaries in x and y (and right and left)\n",
    "        win_y_low = binary_warped.shape[0] - (window+1)*window_height\n",
    "        win_y_high = binary_warped.shape[0] - window*window_height\n",
    "\n",
    "        ### TO-DO: Find the four below boundaries of the window ###\n",
    "        win_xleft_low = leftx_current -  margin# Update this\n",
    "        win_xleft_high = leftx_current +  margin # Update this\n",
    "        win_xright_low = rightx_current -  margin  # Update this\n",
    "        win_xright_high = rightx_current +  margin  # Update this\n",
    "        \n",
    "        # Draw the windows on the visualization image\n",
    "        lineWidth = 3\n",
    "        color = (0,255,0)\n",
    "        cv2.rectangle(out_img, (win_xleft_low, win_y_low), (win_xleft_high, win_y_high), color, lineWidth) \n",
    "        cv2.rectangle(out_img, (win_xright_low, win_y_low), (win_xright_high, win_y_high), color, lineWidth) \n",
    "        \n",
    "        leftWindow = binary_warped[win_y_low : win_y_high, win_xleft_low : win_xleft_high]\n",
    "        rightWindow = binary_warped[win_y_low : win_y_high, win_xright_low : win_xright_high]\n",
    "        \n",
    "        ### TO-DO: Identify the nonzero pixels in x and y within the window ###      \n",
    "        good_left_inds = np.transpose(np.nonzero(leftWindow))\n",
    "        good_right_inds = np.transpose(np.nonzero(rightWindow))\n",
    "        #good_left_inds = np.nonzero(leftWindow)\n",
    "        #good_right_inds = np.nonzero(rightWindow)\n",
    "        \n",
    "        # Append these indices to the lists\n",
    "        left_lane_inds.append(good_left_inds)\n",
    "        right_lane_inds.append(good_right_inds)\n",
    "        \n",
    "        #histogramLeft = np.sum(leftWindow, axis=0)\n",
    "        #histogramRight = np.sum(rightWindow, axis=0)\n",
    "        #left_peak = np.argmax(histogramLeft)\n",
    "        #right_peak = np.argmax(histogramRight)\n",
    "        #left_peak = np.argmax(histogramLeft)\n",
    "        #right_peak = np.argmax(histogramRight)\n",
    "        nonzeroLeft = leftWindow.nonzero()\n",
    "        nonzeroxLeft = nonzeroLeft[1]\n",
    "        \n",
    "        nonzeroRight = rightWindow.nonzero()\n",
    "        nonzeroxRight = nonzeroRight[1]\n",
    "        \n",
    "        #print(\"nonZeroLeft= \", nonzeroLeft)\n",
    "        #print(\"nonzeroxLeft= \", nonzeroxLeft)\n",
    "        #print(\"nonzeroRight= \", nonzeroRight)\n",
    "        #print(\"nonzeroxRight= \", nonzeroxRight)\n",
    "        \n",
    "        if (len(nonzeroxLeft) > minpix):\n",
    "            leftGoodPixelAvgX = int(np.average(nonzeroxLeft))\n",
    "        else:\n",
    "            leftGoodPixelAvgX = margin\n",
    "            \n",
    "        if (len(nonzeroxRight) > minpix):\n",
    "            rightGoodPixelAvgX = int(np.average(nonzeroxRight))\n",
    "        else:\n",
    "            rightGoodPixelAvgX = margin\n",
    "                    \n",
    "        #print(\"leftGoodPixelAvgX= \", leftGoodPixelAvgX)\n",
    "        #print(\"rightGoodPixelAvgX= \", rightGoodPixelAvgX)\n",
    "       \n",
    "        \n",
    "        left_peak = leftGoodPixelAvgX + win_xleft_low\n",
    "        right_peak = rightGoodPixelAvgX + win_xright_low\n",
    "        #print(\"peaksLR= ({}, {})\".format(left_peak, right_peak))\n",
    "\n",
    "        colorLine = (255, 0, 0)\n",
    "        Pt0 = (int(left_peak), win_y_low)\n",
    "        Pt1 = (int(left_peak), win_y_high)\n",
    "        cv2.line(out_img, Pt0, Pt1, colorLine, lineWidth)\n",
    "        \n",
    "        Pt0 = (int(right_peak), win_y_low)\n",
    "        Pt1 = (int(right_peak), win_y_high)\n",
    "        cv2.line(out_img, Pt0, Pt1, colorLine, lineWidth)\n",
    " \n",
    "        leftx_current = left_peak\n",
    "        rightx_current = right_peak\n",
    "        pass # Remove this when you add your function\n",
    "\n",
    "    # Concatenate the arrays of indices (previously was a list of lists of pixels)\n",
    "    try:\n",
    "        left_lane_inds = np.concatenate(left_lane_inds)\n",
    "        right_lane_inds = np.concatenate(right_lane_inds)\n",
    "    except ValueError:\n",
    "        # Avoids an error if the above is not implemented fully\n",
    "        pass\n",
    "\n",
    "    # Extract left and right line pixel positions\n",
    "    leftx = nonzerox[left_lane_inds]\n",
    "    lefty = nonzeroy[left_lane_inds] \n",
    "    rightx = nonzerox[right_lane_inds]\n",
    "    righty = nonzeroy[right_lane_inds]\n",
    "\n",
    "    return leftx, lefty, rightx, righty, out_img\n",
    "\n",
    "%matplotlib qt4\n",
    "leftx, lefty, rightx, righty, out_img = find_lane_pixels(binary_warped)\n",
    "plt.figure(figsize=(12,8))\n",
    "plt.imshow(out_img)\n",
    "plt.tight_layout()\n"
   ]
  },
  {
   "cell_type": "code",
   "execution_count": 3,
   "metadata": {},
   "outputs": [
    {
     "name": "stdout",
     "output_type": "stream",
     "text": [
      "The function failed to fit a line!\n"
     ]
    },
    {
     "data": {
      "text/plain": [
       "<matplotlib.image.AxesImage at 0x7f3b880bac50>"
      ]
     },
     "execution_count": 3,
     "metadata": {},
     "output_type": "execute_result"
    },
    {
     "data": {
      "image/png": "[encoded data removed]",
      "text/plain": [
       "<matplotlib.figure.Figure at 0x7f3b880badd8>"
      ]
     },
     "metadata": {},
     "output_type": "display_data"
    }
   ],
   "source": [
    "def fit_polynomial(binary_warped):\n",
    "    # Find our lane pixels first\n",
    "    leftx, lefty, rightx, righty, out_img = find_lane_pixels(binary_warped)\n",
    "\n",
    "    ### TO-DO: Fit a second order polynomial to each using `np.polyfit` ###\n",
    "    left_fit = None\n",
    "    right_fit = None\n",
    "\n",
    "    # Generate x and y values for plotting\n",
    "    ploty = np.linspace(0, binary_warped.shape[0]-1, binary_warped.shape[0] )\n",
    "    try:\n",
    "        left_fitx = left_fit[0]*ploty**2 + left_fit[1]*ploty + left_fit[2]\n",
    "        right_fitx = right_fit[0]*ploty**2 + right_fit[1]*ploty + right_fit[2]\n",
    "    except TypeError:\n",
    "        # Avoids an error if `left` and `right_fit` are still none or incorrect\n",
    "        print('The function failed to fit a line!')\n",
    "        left_fitx = 1*ploty**2 + 1*ploty\n",
    "        right_fitx = 1*ploty**2 + 1*ploty\n",
    "\n",
    "    ## Visualization ##\n",
    "    # Colors in the left and right lane regions\n",
    "    out_img[lefty, leftx] = [255, 0, 0]\n",
    "    out_img[righty, rightx] = [0, 0, 255]\n",
    "\n",
    "    # Plots the left and right polynomials on the lane lines\n",
    "    plt.plot(left_fitx, ploty, color='yellow')\n",
    "    plt.plot(right_fitx, ploty, color='yellow')\n",
    "\n",
    "    return out_img\n",
    "\n",
    "\n",
    "out_img = fit_polynomial(binary_warped)\n",
    "\n",
    "plt.imshow(out_img)"
   ]
  },
  {
   "cell_type": "code",
   "execution_count": null,
   "metadata": {},
   "outputs": [],
   "source": []
  }
 ],
 "metadata": {
  "kernelspec": {
   "display_name": "Python 3",
   "language": "python",
   "name": "python3"
  },
  "language_info": {
   "codemirror_mode": {
    "name": "ipython",
    "version": 3
   },
   "file_extension": ".py",
   "mimetype": "text/x-python",
   "name": "python",
   "nbconvert_exporter": "python",
   "pygments_lexer": "ipython3",
   "version": "3.5.2"
  },
  "widgets": {
   "state": {},
   "version": "1.1.2"
  }
 },
 "nbformat": 4,
 "nbformat_minor": 2
}
