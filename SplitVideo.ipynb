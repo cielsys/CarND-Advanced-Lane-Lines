{
 "cells": [
  {
   "cell_type": "code",
   "execution_count": 20,
   "metadata": {},
   "outputs": [],
   "source": [
    "import numpy as np\n",
    "import matplotlib.image as mpimg\n",
    "import matplotlib.pyplot as plt\n",
    "import cv2\n",
    "import math\n",
    "import os\n",
    "\n",
    "from moviepy.editor import VideoFileClip\n",
    "from IPython.display import HTML\n",
    "import datetime\n"
   ]
  },
  {
   "cell_type": "code",
   "execution_count": 2,
   "metadata": {},
   "outputs": [
    {
     "data": {
      "text/html": [
       "<style> code {background-color : orange !important;} </style>\n",
       "from IPython.core.display import display, HTML\n",
       "display(HTML(\"<style>.container { width:100% !important; }</style>\"))"
      ],
      "text/plain": [
       "<IPython.core.display.HTML object>"
      ]
     },
     "metadata": {},
     "output_type": "display_data"
    }
   ],
   "source": [
    "%%HTML\n",
    "<style> code {background-color : orange !important;} </style>\n",
    "from IPython.core.display import display, HTML\n",
    "display(HTML(\"<style>.container { width:100% !important; }</style>\"))"
   ]
  },
  {
   "cell_type": "code",
   "execution_count": 23,
   "metadata": {},
   "outputs": [],
   "source": [
    "def SaveFrame(imgFrame, fileNameOut, image_format):\n",
    "    #print(\"Saving frame file :\", fileNameOut)\n",
    "    mpimg.imsave(fileNameOut, imgFrame, format=image_format)"
   ]
  },
  {
   "cell_type": "code",
   "execution_count": 24,
   "metadata": {},
   "outputs": [
    {
     "name": "stdout",
     "output_type": "stream",
     "text": [
      "Splitting video file : ImagesIn/VideosIn/project_video.mp4\n",
      "Starting with frame file : ImagesIn/VideosIn/project_video_frames/project_video_f0000.jpg\n",
      "Finished with frame file : ImagesIn/VideosIn/project_video_frames/project_video_f0012.jpg\n"
     ]
    }
   ],
   "source": [
    "def SplitVideo():\n",
    "    fileNameBase = \"project_video\"\n",
    "    fileExtIn = \".mp4\"\n",
    "    fileExtOut = \"jpg\"\n",
    "    dirIn = \"ImagesIn/VideosIn/\"\n",
    "    dirOut = \"ImagesIn/VideosIn/\" + fileNameBase + \"_frames/\"\n",
    "    fileNameIn  = dirIn + fileNameBase + fileExtIn\n",
    "    fileNameOutFmt = dirOut + fileNameBase + \"_f{:04}.\" + fileExtOut\n",
    "    \n",
    "    if (not os.path.exists(dirOut)):\n",
    "        os.makedirs(dirOut)\n",
    "\n",
    "    frameIndex = 0\n",
    "\n",
    "    print(\"Splitting video file :\", fileNameIn)\n",
    "    clip = VideoFileClip(fileNameIn).subclip(0, 0.5)\n",
    "\n",
    "    print(\"Starting with frame file :\", fileNameOutFmt.format(frameIndex))\n",
    "    for imgFrame in clip.iter_frames():\n",
    "        fileNameOut = fileNameOutFmt.format(frameIndex)\n",
    "        SaveFrame(imgFrame, fileNameOut, fileExtOut)\n",
    "        frameIndex += 1;\n",
    "        \n",
    "    print(\"Finished with frame file :\", fileNameOutFmt.format(frameIndex-1))\n",
    "    \n",
    "SplitVideo()"
   ]
  }
 ],
 "metadata": {
  "kernelspec": {
   "display_name": "Python 3",
   "language": "python",
   "name": "python3"
  },
  "language_info": {
   "codemirror_mode": {
    "name": "ipython",
    "version": 3
   },
   "file_extension": ".py",
   "mimetype": "text/x-python",
   "name": "python",
   "nbconvert_exporter": "python",
   "pygments_lexer": "ipython3",
   "version": "3.6.5"
  },
  "widgets": {
   "state": {},
   "version": "1.1.2"
  }
 },
 "nbformat": 4,
 "nbformat_minor": 2
}
