{
 "cells": [
  {
   "cell_type": "code",
   "execution_count": 7,
   "metadata": {},
   "outputs": [],
   "source": [
    "import numpy as np\n",
    "import matplotlib.image as mpimg\n",
    "import matplotlib.pyplot as plt\n",
    "import cv2\n",
    "import math\n",
    "import os\n",
    "\n",
    "from moviepy.editor import VideoFileClip\n",
    "from IPython.display import HTML\n",
    "import datetime"
   ]
  },
  {
   "cell_type": "code",
   "execution_count": 8,
   "metadata": {},
   "outputs": [
    {
     "data": {
      "text/html": [
       "<style> code {background-color : orange !important;} </style>\n",
       "from IPython.core.display import display, HTML\n",
       "display(HTML(\"<style>.container { width:100% !important; }</style>\"))"
      ],
      "text/plain": [
       "<IPython.core.display.HTML object>"
      ]
     },
     "metadata": {},
     "output_type": "display_data"
    }
   ],
   "source": [
    "%%HTML\n",
    "<style> code {background-color : orange !important;} </style>\n",
    "from IPython.core.display import display, HTML\n",
    "display(HTML(\"<style>.container { width:100% !important; }</style>\"))"
   ]
  },
  {
   "cell_type": "code",
   "execution_count": 10,
   "metadata": {},
   "outputs": [],
   "source": [
    "def GlobalCandidates():\n",
    "    fileNameBase = \"project_video\"\n",
    "    fileExtIn = \".mp4\"\n",
    "    fileExtOut = \"jpg\"\n",
    "    dirIn = \"ImagesIn/VideosIn/\"\n",
    "    dirOut = \"ImagesIn/VideosIn/\" + fileNameBase + \"_frames/\"\n",
    "    fileNameIn  = dirIn + fileNameBase + fileExtIn\n",
    "    fileNameOutFmt = dirOut + fileNameBase + \"_f{:04}.\" + fileExtOut\n",
    "    \n",
    "    #if (not os.path.exists(dirOut)):\n",
    "    #    os.makedirs(dirOut)\n"
   ]
  },
  {
   "cell_type": "code",
   "execution_count": 18,
   "metadata": {},
   "outputs": [],
   "source": [
    "#calFileInNames = glob.glob('camera_cal/cal*.jpg')\n",
    "#calFileInNames = ['camera_cal/calibration2.jpg']\n",
    "\n",
    "def GetImageIteratorFromDir():\n",
    "    dirImagesIn = \"ImagesIn/TestImagesIn/POVRaw/\"\n",
    "    fileNameBase = \"straight_lines1.jpg\"\n",
    "\n",
    "    imgInFileNames = [dirImagesIn + \"straight_lines1.jpg\", dirImagesIn + \"straight_lines2.jpg\"]\n",
    "    imageIter = ((mpimg.imread(imgInFileName), imgInFileName) for imgInFileName in imgInFileNames)\n",
    "\n",
    "    return(imageIter)"
   ]
  },
  {
   "cell_type": "code",
   "execution_count": 22,
   "metadata": {},
   "outputs": [],
   "source": [
    "def ImageProc_Pipeline(imgRaw):\n",
    "    imgPipeProc = imgRaw\n",
    "    return imgPipeProc\n",
    "    "
   ]
  },
  {
   "cell_type": "code",
   "execution_count": 24,
   "metadata": {},
   "outputs": [
    {
     "name": "stdout",
     "output_type": "stream",
     "text": [
      "P2MainProcessing:  ImagesIn/TestImagesIn/POVRaw/straight_lines1.jpg\n"
     ]
    },
    {
     "ename": "TypeError",
     "evalue": "ImageProc_Pipeline() missing 1 required positional argument: 'imgRaw'",
     "output_type": "error",
     "traceback": [
      "\u001b[0;31m---------------------------------------------------------------------------\u001b[0m",
      "\u001b[0;31mTypeError\u001b[0m                                 Traceback (most recent call last)",
      "\u001b[0;32m<ipython-input-24-9e73849125e9>\u001b[0m in \u001b[0;36m<module>\u001b[0;34m()\u001b[0m\n\u001b[1;32m      9\u001b[0m \u001b[0;31m# MainInvocation\u001b[0m\u001b[0;34m\u001b[0m\u001b[0;34m\u001b[0m\u001b[0m\n\u001b[1;32m     10\u001b[0m \u001b[0mg_imageIter\u001b[0m \u001b[0;34m=\u001b[0m \u001b[0mGetImageIteratorFromDir\u001b[0m\u001b[0;34m(\u001b[0m\u001b[0;34m)\u001b[0m\u001b[0;34m\u001b[0m\u001b[0m\n\u001b[0;32m---> 11\u001b[0;31m \u001b[0mP2Main\u001b[0m\u001b[0;34m(\u001b[0m\u001b[0mg_imageIter\u001b[0m\u001b[0;34m)\u001b[0m\u001b[0;34m\u001b[0m\u001b[0m\n\u001b[0m",
      "\u001b[0;32m<ipython-input-24-9e73849125e9>\u001b[0m in \u001b[0;36mP2Main\u001b[0;34m(rawImgSrcIter)\u001b[0m\n\u001b[1;32m      4\u001b[0m         \u001b[0mprint\u001b[0m\u001b[0;34m(\u001b[0m\u001b[0;34m\"P2MainProcessing: \"\u001b[0m\u001b[0;34m,\u001b[0m \u001b[0mimgRawName\u001b[0m\u001b[0;34m)\u001b[0m\u001b[0;34m\u001b[0m\u001b[0m\n\u001b[1;32m      5\u001b[0m \u001b[0;34m\u001b[0m\u001b[0m\n\u001b[0;32m----> 6\u001b[0;31m         \u001b[0mimgPipeProc\u001b[0m \u001b[0;34m=\u001b[0m \u001b[0mImageProc_Pipeline\u001b[0m\u001b[0;34m(\u001b[0m\u001b[0;34m)\u001b[0m\u001b[0;34m\u001b[0m\u001b[0m\n\u001b[0m\u001b[1;32m      7\u001b[0m \u001b[0;34m\u001b[0m\u001b[0m\n\u001b[1;32m      8\u001b[0m \u001b[0;34m\u001b[0m\u001b[0m\n",
      "\u001b[0;31mTypeError\u001b[0m: ImageProc_Pipeline() missing 1 required positional argument: 'imgRaw'"
     ]
    }
   ],
   "source": [
    "\n",
    "def P2Main(rawImgSrcIter):\n",
    "    for (imgRaw, imgRawName) in rawImgSrcIter:\n",
    "        print(\"P2MainProcessing: \", imgRawName)\n",
    "        \n",
    "        imgPipeProc = ImageProc_Pipeline(imgRaw)\n",
    "\n",
    "        \n",
    "# MainInvocation\n",
    "g_imageIter = GetImageIteratorFromDir()\n",
    "P2Main(g_imageIter)"
   ]
  },
  {
   "cell_type": "code",
   "execution_count": null,
   "metadata": {},
   "outputs": [],
   "source": []
  }
 ],
 "metadata": {
  "kernelspec": {
   "display_name": "Python 3",
   "language": "python",
   "name": "python3"
  },
  "language_info": {
   "codemirror_mode": {
    "name": "ipython",
    "version": 3
   },
   "file_extension": ".py",
   "mimetype": "text/x-python",
   "name": "python",
   "nbconvert_exporter": "python",
   "pygments_lexer": "ipython3",
   "version": "3.5.2"
  },
  "widgets": {
   "state": {},
   "version": "1.1.2"
  }
 },
 "nbformat": 4,
 "nbformat_minor": 2
}
